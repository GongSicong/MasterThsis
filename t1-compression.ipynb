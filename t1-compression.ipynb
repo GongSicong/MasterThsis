{
 "cells": [
  {
   "cell_type": "code",
   "execution_count": 4,
   "outputs": [],
   "source": [
    "\"\"\" Experiment Settings \"\"\"\n",
    "depth_tree = 5\n",
    "res = []"
   ],
   "metadata": {
    "collapsed": false,
    "pycharm": {
     "name": "#%%\n"
    }
   }
  },
  {
   "cell_type": "code",
   "execution_count": 5,
   "outputs": [],
   "source": [
    "\"\"\" Libraries \"\"\"\n",
    "import json\n",
    "import numpy as np\n",
    "import pandas as pd\n",
    "import psycopg2\n",
    "from matplotlib import pyplot as plt\n",
    "\n",
    "import nbimporter\n",
    "from Core import Ranges, nDTree, tree_shape_relation, draw_lines, draw_box, experiment_execution"
   ],
   "metadata": {
    "collapsed": false,
    "pycharm": {
     "name": "#%%\n"
    }
   }
  },
  {
   "cell_type": "code",
   "execution_count": 65,
   "outputs": [],
   "source": [
    "\"\"\" Database Connection \"\"\"\n",
    "conn_params = \"dbname='trajectory' user='gpadmin' host='192.168.59.101' password='1234' port=5432\"\n",
    "conn = psycopg2.connect(conn_params)\n",
    "cur = conn.cursor()"
   ],
   "metadata": {
    "collapsed": false,
    "pycharm": {
     "name": "#%%\n"
    }
   }
  },
  {
   "cell_type": "code",
   "execution_count": 66,
   "outputs": [],
   "source": [
    "\"\"\" Experiment Preparation: create traj table \"\"\"\n",
    "sql_traj_table = \"\"\"\n",
    "DROP EXTERNAL TABLE IF EXISTS traj_ext;\n",
    "CREATE READABLE EXTERNAL TABLE traj_ext (\n",
    "    indexing_key INTEGER,\n",
    "    state SMALLINT,\n",
    "    geometry GEOMETRY(LINESTRINGZ),\n",
    "    taxiid BIGINT,\n",
    "    distributing_key INTEGER\n",
    "    )\n",
    "    LOCATION ('gpfdist://192.168.59.101:8081/data_{}.csv')\n",
    "    FORMAT 'csv' (HEADER)\n",
    "    LOG ERRORS SEGMENT REJECT LIMIT 50 ROWS;\n",
    "\n",
    "DROP TABLE IF EXISTS traj;\n",
    "CREATE TABLE traj\n",
    "(\n",
    "    indexing_key     INTEGER,\n",
    "    state            SMALLINT,\n",
    "    geometry         GEOMETRY(LINESTRINGZ),\n",
    "    taxiid           BIGINT,\n",
    "    distributing_key INTEGER\n",
    ");\n",
    "\n",
    "INSERT INTO traj (indexing_key, state, geometry, taxiid, distributing_key)\n",
    "SELECT indexing_key, state, geometry, taxiid, distributing_key\n",
    "FROM traj_ext;\n",
    "\n",
    "DROP TABLE IF EXISTS traj_zipp;\n",
    "CREATE TABLE traj_zipp\n",
    "(\n",
    "    indexing_key     INTEGER,\n",
    "    state            SMALLINT,\n",
    "    geometry         GEOMETRY(LINESTRINGZ),\n",
    "    taxiid           BIGINT,\n",
    "    distributing_key INTEGER\n",
    ") WITH (APPENDONLY = TRUE, COMPRESSTYPE = ZSTD, COMPRESSLEVEL = 19);\n",
    "\n",
    "INSERT INTO traj_zipp (indexing_key, state, geometry, taxiid, distributing_key)\n",
    "SELECT indexing_key, state, geometry, taxiid, distributing_key\n",
    "FROM traj;\n",
    "\"\"\".format(depth_tree)\n",
    "\n",
    "cur.execute(sql_traj_table)\n",
    "conn.commit()"
   ],
   "metadata": {
    "collapsed": false,
    "pycharm": {
     "name": "#%%\n"
    }
   }
  },
  {
   "cell_type": "code",
   "execution_count": 67,
   "outputs": [],
   "source": [
    "query_compression = \"\"\"\n",
    "DROP INDEX IF EXISTS traj_index_indexing_key;\n",
    "CREATE INDEX traj_index_indexing_key ON traj USING btree (indexing_key);\n",
    "\n",
    "SELECT (SELECT pg_size_pretty(pg_table_size('traj')))   AS size_table,\n",
    "       (SELECT pg_size_pretty(pg_table_size('traj_zipp'))) AS size_zipp,\n",
    "       (SELECT pg_size_pretty(pg_table_size('traj_index_indexing_key'))) AS size_index\n",
    "\"\"\"\n",
    "cur.execute(query_compression)\n",
    "records = cur.fetchall()"
   ],
   "metadata": {
    "collapsed": false,
    "pycharm": {
     "name": "#%%\n"
    }
   }
  },
  {
   "cell_type": "code",
   "execution_count": 68,
   "outputs": [
    {
     "name": "stdout",
     "output_type": "stream",
     "text": [
      "[462.0, 102.0, 83.0]\n"
     ]
    }
   ],
   "source": [
    "result = records[0]\n",
    "for val in result:\n",
    "    vals = val.split(\" \")\n",
    "    if vals[1] == \"MB\":\n",
    "        res.append(float(vals[0]))\n",
    "    else:\n",
    "        res.append(float(vals[0]) / 1000)\n",
    "print(res)"
   ],
   "metadata": {
    "collapsed": false,
    "pycharm": {
     "name": "#%%\n"
    }
   }
  },
  {
   "cell_type": "code",
   "execution_count": 6,
   "outputs": [],
   "source": [
    "depth_tree = [0, 1, 2, 3, 4, 5, 6, 7]\n",
    "size_origin = [367.85, 367.85, 367.85, 367.85, 367.85, 367.85, 367.85, 367.85]\n",
    "res_0 = [96.0, 31.0, 1.408]\n",
    "res_1 = [105.0, 31.0, 1.984]\n",
    "res_2 = [118.0, 32.0, 2.912]\n",
    "res_3 = [134.0, 32.0, 4.512]\n",
    "res_4 = [160.0, 37.0, 7.424]\n",
    "res_5 = [206.0, 46.0, 13.0]\n",
    "res_6 = [280.0, 64.0, 28.0]\n",
    "res_7 = [462.0, 102.0, 83.0]"
   ],
   "metadata": {
    "collapsed": false,
    "pycharm": {
     "name": "#%%\n"
    }
   }
  },
  {
   "cell_type": "code",
   "execution_count": 7,
   "outputs": [],
   "source": [
    "all_res = [res_0, res_1, res_2, res_3, res_4, res_5, res_6, res_7]\n",
    "size_unzipp = []\n",
    "size_zipped = []\n",
    "size_index = []\n",
    "\n",
    "for res in all_res:\n",
    "    size_unzipp.append(res[0])\n",
    "    size_zipped.append(res[1])\n",
    "    size_index.append(res[2])\n",
    "\n",
    "compression_ratio = [origin / zipped for origin, zipped in zip(size_origin, size_zipped)]"
   ],
   "metadata": {
    "collapsed": false,
    "pycharm": {
     "name": "#%%\n"
    }
   }
  },
  {
   "cell_type": "code",
   "execution_count": 8,
   "outputs": [
    {
     "data": {
      "text/plain": "<Figure size 600x300 with 2 Axes>",
      "image/png": "[encoded data removed]"
     },
     "metadata": {},
     "output_type": "display_data"
    }
   ],
   "source": [
    "fig, ax1 = plt.subplots(figsize=(6, 3))\n",
    "\n",
    "ax1.set_xlabel('Tree Depth', fontdict={\"fontsize\": 8})\n",
    "ax1.set_ylabel('Compression Ratio', color='tab:blue', fontdict={\"fontsize\": 8})\n",
    "ax1.tick_params(axis='y', labelcolor='tab:blue')\n",
    "ax1.plot(depth_tree, compression_ratio, label='Compression Ratio', color='tab:blue', marker='s', linewidth=1, linestyle='--')\n",
    "\n",
    "ax2 = ax1.twinx()\n",
    "ax2.set_ylabel('Size (MB)', color='tab:orange', fontdict={\"fontsize\": 8})\n",
    "ax2.tick_params(axis='y', labelcolor='tab:orange')\n",
    "ax2.plot(depth_tree, size_unzipp, label='Size Without Compression', color='tab:red', marker='^', linewidth=1)\n",
    "ax2.plot(depth_tree, size_zipped, label='Size With Compression', color='tab:orange', marker='^', linewidth=1)\n",
    "ax2.plot(depth_tree, size_origin, label='Size Original File', color='black', linewidth=1, linestyle=':')\n",
    "ax2.plot(depth_tree, size_index, label='Size Btree Index', color='tab:green', marker='^', linewidth=1)\n",
    "\n",
    "ax1.legend(fontsize=8, loc='upper left', bbox_to_anchor=(0, 0.9))\n",
    "ax2.legend(fontsize=8, loc='upper left', bbox_to_anchor=(0, 0.8))\n",
    "fig.savefig(\"figs/compression.pdf\", bbox_inches='tight')\n",
    "plt.show()"
   ],
   "metadata": {
    "collapsed": false,
    "pycharm": {
     "name": "#%%\n"
    }
   }
  },
  {
   "cell_type": "code",
   "execution_count": 86,
   "outputs": [
    {
     "name": "stdout",
     "output_type": "stream",
     "text": [
      "[0, 1, 2, 3, 4, 5, 6, 7]\n",
      "[367.85, 367.85, 367.85, 367.85, 367.85, 367.85, 367.85, 367.85]\n",
      "[96.0, 105.0, 118.0, 134.0, 160.0, 206.0, 280.0, 462.0]\n",
      "[31.0, 31.0, 32.0, 32.0, 37.0, 46.0, 64.0, 102.0]\n",
      "[1.41, 1.98, 2.91, 4.51, 7.42, 13.0, 28.0, 83.0]\n",
      "[11.87, 11.87, 11.5, 11.5, 9.94, 8.0, 5.75, 3.61]\n"
     ]
    }
   ],
   "source": [
    "print([round(val, 2) for val in size_origin])\n",
    "print([round(val, 2) for val in size_unzipp])\n",
    "print([round(val, 2) for val in size_zipped])\n",
    "print([round(val, 2) for val in size_index])\n",
    "print([round(val, 2) for val in compression_ratio])"
   ],
   "metadata": {
    "collapsed": false,
    "pycharm": {
     "name": "#%%\n"
    }
   }
  }
 ],
 "metadata": {
  "kernelspec": {
   "display_name": "Python 3",
   "language": "python",
   "name": "python3"
  },
  "language_info": {
   "codemirror_mode": {
    "name": "ipython",
    "version": 2
   },
   "file_extension": ".py",
   "mimetype": "text/x-python",
   "name": "python",
   "nbconvert_exporter": "python",
   "pygments_lexer": "ipython2",
   "version": "2.7.6"
  }
 },
 "nbformat": 4,
 "nbformat_minor": 0
}