{
 "cells": [
  {
   "cell_type": "code",
   "execution_count": 105,
   "outputs": [],
   "source": [
    "\"\"\" Experiment Settings \"\"\"\n",
    "depth_tree = 5\n",
    "res = []"
   ],
   "metadata": {
    "collapsed": false,
    "pycharm": {
     "name": "#%%\n"
    }
   }
  },
  {
   "cell_type": "code",
   "execution_count": 106,
   "outputs": [],
   "source": [
    "\"\"\" Libraries \"\"\"\n",
    "import json\n",
    "import numpy as np\n",
    "import pandas as pd\n",
    "import psycopg2\n",
    "from matplotlib import pyplot as plt\n",
    "\n",
    "import nbimporter\n",
    "from Core import Ranges, nDTree, tree_shape_relation, draw_lines, draw_box, experiment_execution"
   ],
   "metadata": {
    "collapsed": false,
    "pycharm": {
     "name": "#%%\n"
    }
   }
  },
  {
   "cell_type": "code",
   "execution_count": 107,
   "outputs": [],
   "source": [
    "\"\"\" Database Connection \"\"\"\n",
    "conn_params = \"dbname='trajectory' user='postgres' host='localhost' password='990721' port=5432\"\n",
    "conn = psycopg2.connect(conn_params)\n",
    "cur = conn.cursor()"
   ],
   "metadata": {
    "collapsed": false,
    "pycharm": {
     "name": "#%%\n"
    }
   }
  },
  {
   "cell_type": "code",
   "execution_count": 108,
   "outputs": [],
   "source": [
    "\"\"\" Overall Size \"\"\"\n",
    "sql_overall_size = \"\"\"\n",
    "SELECT sum(pg_column_size(geometry)) AS size\n",
    "FROM traj_{};\n",
    "\"\"\".format(depth_tree)\n",
    "\n",
    "cur.execute(sql_overall_size)\n",
    "records = cur.fetchall()\n",
    "columns = [desc[0] for desc in cur.description]\n",
    "df = pd.DataFrame(records, columns=columns)\n",
    "res.append(df[\"size\"].tolist()[0])"
   ],
   "metadata": {
    "collapsed": false,
    "pycharm": {
     "name": "#%%\n"
    }
   }
  },
  {
   "cell_type": "code",
   "execution_count": 109,
   "outputs": [],
   "source": [
    "\"\"\" Individual Size \"\"\"\n",
    "sql_individual_size = \"\"\"\n",
    "SELECT indexing_key, coalesce(sum(pg_column_size(geometry)), 0) AS size\n",
    "FROM traj_{}\n",
    "GROUP BY indexing_key;\n",
    "\"\"\".format(depth_tree)\n",
    "\n",
    "cur.execute(sql_individual_size)\n",
    "records = cur.fetchall()\n",
    "columns = [desc[0] for desc in cur.description]\n",
    "df = pd.DataFrame(records, columns=columns)"
   ],
   "metadata": {
    "collapsed": false,
    "pycharm": {
     "name": "#%%\n"
    }
   }
  },
  {
   "cell_type": "code",
   "execution_count": 110,
   "outputs": [],
   "source": [
    "\"\"\" Empty Ratio \"\"\"\n",
    "list_size = df[\"size\"].tolist()\n",
    "empty_ratio = list_size.count(0) / len(list_size)\n",
    "res.append(empty_ratio)\n",
    "\n",
    "\"\"\" Global Difference \"\"\"\n",
    "global_difference = np.std(list_size)\n",
    "res.append(global_difference)"
   ],
   "metadata": {
    "collapsed": false,
    "pycharm": {
     "name": "#%%\n"
    }
   }
  },
  {
   "cell_type": "code",
   "execution_count": 111,
   "outputs": [],
   "source": [
    "def chunk_list(lst, chunk_size):\n",
    "    return [lst[i:i + chunk_size] for i in range(0, len(lst), chunk_size)]"
   ],
   "metadata": {
    "collapsed": false,
    "pycharm": {
     "name": "#%%\n"
    }
   }
  },
  {
   "cell_type": "code",
   "execution_count": 112,
   "outputs": [],
   "source": [
    "\"\"\" Between Group difference \"\"\"\n",
    "data = chunk_list(list_size, 8)\n",
    "group_means = [np.mean(group) for group in data]\n",
    "between_group_difference = np.std(group_means)\n",
    "res.append(between_group_difference)\n",
    "\n",
    "\"\"\" Within Group Difference \"\"\"\n",
    "within_group_differences = np.mean([np.std(group) for group in data])\n",
    "res.append(within_group_differences)"
   ],
   "metadata": {
    "collapsed": false,
    "pycharm": {
     "name": "#%%\n"
    }
   }
  },
  {
   "cell_type": "code",
   "execution_count": 113,
   "outputs": [],
   "source": [
    "cur.close()\n",
    "conn.close()"
   ],
   "metadata": {
    "collapsed": false,
    "pycharm": {
     "name": "#%%\n"
    }
   }
  },
  {
   "cell_type": "code",
   "execution_count": 114,
   "outputs": [
    {
     "name": "stdout",
     "output_type": "stream",
     "text": [
      "[152234648, 0.5472412109375, 13034.874398831347, 4632.811799240748, 8690.378527250017]\n"
     ]
    }
   ],
   "source": [
    "print(res)"
   ],
   "metadata": {
    "collapsed": false,
    "pycharm": {
     "name": "#%%\n"
    }
   }
  },
  {
   "cell_type": "code",
   "execution_count": 115,
   "outputs": [],
   "source": [
    "depth_tree = [0, 1, 2, 3, 4, 5, 6, 7]\n",
    "res_0 = [62797907, 0.0, 0.0, 0.0, 0.0]\n",
    "res_1 = [69040414, 0.0, 10942780.089209948, 0.0, 10942780.089209948]\n",
    "res_2 = [83937058, 0.0, 2130133.981896884, 1690222.9412348284, 860438.3414115076]\n",
    "res_3 = [103657911, 0.072265625, 396945.9535862942, 338585.121627054, 124128.44717104945]\n",
    "res_4 = [124169196, 0.3125, 74593.70571933564, 60601.982162728586, 19893.74537628708]\n",
    "res_5 = [152234648, 0.5472412109375, 13034.874398831347, 4623.45007589106, 8695.579170223646]\n",
    "res_6 = [208658130, 0.7209625244140625, 2591.4907032082274, 2172.9572143182895, 526.9479724156203]\n",
    "res_7 = [304977961, 0.8413906097412109, 617.5802239696545, 472.3268754863216, 125.37873500865928]"
   ],
   "metadata": {
    "collapsed": false,
    "pycharm": {
     "name": "#%%\n"
    }
   }
  },
  {
   "cell_type": "code",
   "execution_count": 116,
   "outputs": [],
   "source": [
    "overall_size = []\n",
    "empty_ratio = []\n",
    "global_diff = []\n",
    "between_diff = []\n",
    "within_diff = []\n",
    "\n",
    "all_res = [res_0, res_1, res_2, res_3, res_4, res_5, res_6, res_7]\n",
    "\n",
    "for res in all_res:\n",
    "    overall_size.append(res[0])\n",
    "    empty_ratio.append(res[1])\n",
    "    global_diff.append(res[2])\n",
    "    between_diff.append(res[3])\n",
    "    within_diff.append(res[4])\n",
    "\n",
    "global_diff = np.array(global_diff) / np.array(overall_size)\n",
    "between_diff = np.array(between_diff) / np.array(overall_size)\n",
    "within_diff = np.array(within_diff) / np.array(overall_size)\n",
    "\n",
    "global_diff = [value / 8 ** (7 - i) for i, value in enumerate(global_diff)]\n",
    "between_diff = [value / 8 ** (7 - i) for i, value in enumerate(between_diff)]\n",
    "within_diff = [value / 8 ** (7 - i) for i, value in enumerate(within_diff)]"
   ],
   "metadata": {
    "collapsed": false,
    "pycharm": {
     "name": "#%%\n"
    }
   }
  },
  {
   "cell_type": "code",
   "execution_count": 119,
   "outputs": [
    {
     "data": {
      "text/plain": "<Figure size 600x300 with 2 Axes>",
      "image/png": "[encoded data removed]"
     },
     "metadata": {},
     "output_type": "display_data"
    }
   ],
   "source": [
    "fig, ax1 = plt.subplots(figsize=(6, 3))\n",
    "\n",
    "ax1.set_xlabel('Tree Depth', fontdict={\"fontsize\": 8})\n",
    "ax1.set_ylabel('Empty Ratio', color='tab:blue', fontdict={\"fontsize\": 8})\n",
    "ax1.tick_params(axis='y', labelcolor='tab:blue')\n",
    "ax1.plot(depth_tree, empty_ratio, label='Empty Ratio', color='tab:blue', marker='s', linewidth=1, linestyle='--')\n",
    "\n",
    "ax2 = ax1.twinx()\n",
    "ax2.set_ylabel('Normalized Standard Deviation', color='tab:orange', fontdict={\"fontsize\": 8})\n",
    "ax2.tick_params(axis='y', labelcolor='tab:orange')\n",
    "ax2.plot(depth_tree, global_diff, label='Global Difference', color='tab:red', marker='^', linewidth=1)\n",
    "ax2.plot(depth_tree, between_diff, label='Between Group Difference', color='tab:orange', marker='^', linewidth=1)\n",
    "ax2.plot(depth_tree, within_diff, label='Within Group Differences', color='tab:green', marker='^', linewidth=1)\n",
    "\n",
    "ax1.legend(fontsize=8, loc='upper left', bbox_to_anchor=(0, 1.0))\n",
    "ax2.legend(fontsize=8, loc='upper left', bbox_to_anchor=(0, 0.9))\n",
    "fig.savefig(\"figs/distribution.pdf\", bbox_inches='tight')\n",
    "plt.show()"
   ],
   "metadata": {
    "collapsed": false,
    "pycharm": {
     "name": "#%%\n"
    }
   }
  },
  {
   "cell_type": "code",
   "execution_count": 123,
   "outputs": [
    {
     "name": "stdout",
     "output_type": "stream",
     "text": [
      "[0, 1, 2, 3, 4, 5, 6, 7]\n",
      "['0.00e+00', '6.05e-07', '7.74e-07', '9.35e-07', '1.17e-06', '1.34e-06', '1.55e-06', '2.02e-06']\n",
      "['0.00e+00', '0.00e+00', '6.15e-07', '7.97e-07', '9.53e-07', '4.75e-07', '1.30e-06', '1.55e-06']\n",
      "['0.00e+00', '6.05e-07', '3.13e-07', '2.92e-07', '3.13e-07', '8.92e-07', '3.16e-07', '4.11e-07']\n",
      "[0.0, 0.0, 0.0, 0.07, 0.31, 0.55, 0.72, 0.84]\n"
     ]
    }
   ],
   "source": [
    "print(depth_tree)\n",
    "print(['{:.2e}'.format(val) for val in global_diff])\n",
    "print(['{:.2e}'.format(val) for val in between_diff])\n",
    "print(['{:.2e}'.format(val) for val in within_diff])\n",
    "print([round(val, 2) for val in empty_ratio])"
   ],
   "metadata": {
    "collapsed": false,
    "pycharm": {
     "name": "#%%\n"
    }
   }
  },
  {
   "cell_type": "code",
   "execution_count": null,
   "outputs": [],
   "source": [
    "[0, 1, 2, 3, 4, 5, 6, 7]\n",
    "[0.00e+00& 6.05e-07& 7.74e-07& 9.35e-07& 1.17e-06& 1.34e-06& 1.55e-06& 2.02e-06]\n",
    "[0.00e+00& 0.00e+00& 6.15e-07& 7.97e-07& 9.53e-07& 4.75e-07& 1.30e-06& 1.55e-06]\n",
    "[0.00e+00& 6.05e-07& 3.13e-07& 2.92e-07& 3.13e-07& 8.92e-07& 3.16e-07& 4.11e-07]\n",
    "[0.0& 0.0& 0.0& 0.07& 0.31& 0.55& 0.72& 0.84]"
   ],
   "metadata": {
    "collapsed": false,
    "pycharm": {
     "name": "#%%\n"
    }
   }
  }
 ],
 "metadata": {
  "kernelspec": {
   "display_name": "Python 3",
   "language": "python",
   "name": "python3"
  },
  "language_info": {
   "codemirror_mode": {
    "name": "ipython",
    "version": 2
   },
   "file_extension": ".py",
   "mimetype": "text/x-python",
   "name": "python",
   "nbconvert_exporter": "python",
   "pygments_lexer": "ipython2",
   "version": "2.7.6"
  }
 },
 "nbformat": 4,
 "nbformat_minor": 0
}