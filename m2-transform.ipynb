{
 "cells": [
  {
   "cell_type": "code",
   "execution_count": 57,
   "outputs": [],
   "source": [
    "depth_tree = 7"
   ],
   "metadata": {
    "collapsed": false,
    "pycharm": {
     "name": "#%%\n"
    }
   }
  },
  {
   "cell_type": "code",
   "execution_count": 58,
   "outputs": [],
   "source": [
    "\"\"\" Libraries \"\"\"\n",
    "import os\n",
    "import json\n",
    "import numpy as np\n",
    "from tqdm.auto import tqdm\n",
    "import pandas as pd\n",
    "import nbimporter\n",
    "from Core import get_cell, next_point, intermediate_points, encode_morton, get_linestring, json_numpy_serializer\n",
    "\n",
    "pd.set_option('display.float_format', lambda x: '%.6f' % x)\n",
    "pd.set_option('display.max_rows', None)\n",
    "tqdm.pandas(desc=\"Processing time\")"
   ],
   "metadata": {
    "collapsed": false,
    "pycharm": {
     "name": "#%%\n"
    }
   }
  },
  {
   "cell_type": "code",
   "execution_count": 59,
   "outputs": [],
   "source": [
    "\"\"\" Parameters \"\"\"\n",
    "with open(\"para.json\", \"r\") as json_file:\n",
    "    para = json.load(json_file)\n",
    "\n",
    "fold_test = para[\"fold_test\"]\n",
    "fold_data = para[\"fold_data\"]\n",
    "fold_para = para[\"fold_para\"]\n",
    "x_min, y_min, t_min = para[\"x_min\"], para[\"y_min\"], para[\"t_min\"]\n",
    "x_max, y_max, t_max = para[\"x_max\"], para[\"y_max\"], para[\"t_max\"]\n",
    "para[\"depth_tree\"] = depth_tree"
   ],
   "metadata": {
    "collapsed": false,
    "pycharm": {
     "name": "#%%\n"
    }
   }
  },
  {
   "cell_type": "code",
   "execution_count": 60,
   "outputs": [
    {
     "data": {
      "text/plain": "  0%|          | 0/1000 [00:00<?, ?it/s]",
      "application/vnd.jupyter.widget-view+json": {
       "version_major": 2,
       "version_minor": 0,
       "model_id": "8725b363613e47da911cc0d33fd97189"
      }
     },
     "metadata": {},
     "output_type": "display_data"
    }
   ],
   "source": [
    "\"\"\" Offsetting and Scaling\"\"\"\n",
    "# Delete existing data files\n",
    "if os.path.exists(fold_data):\n",
    "    files = os.listdir(fold_data)\n",
    "    for file in files:\n",
    "        os.remove(\"{}/{}\".format(fold_data, file))  # Remove all files\n",
    "else:\n",
    "    os.makedirs(fold_data)\n",
    "\n",
    "# Calculate offsets and scales\n",
    "x_off, y_off, t_off = x_min, y_min, t_min\n",
    "time_split = 2 ** depth_tree\n",
    "para[\"time_split\"] = time_split\n",
    "x_rng, y_rng, t_rng = x_max - x_min, y_max - y_min, t_max - t_min\n",
    "x_scl = int((x_rng + (time_split - x_rng % time_split)) / time_split)\n",
    "y_scl = int((y_rng + (time_split - y_rng % time_split)) / time_split)\n",
    "t_scl = int((t_rng + (time_split - t_rng % time_split)) / time_split)\n",
    "\n",
    "# Execute offsetting and scaling\n",
    "files = os.listdir(fold_test)\n",
    "for file in tqdm(files):\n",
    "    df = pd.read_csv(filepath_or_buffer=\"{}/{}\".format(fold_test, file), sep=\",\")\n",
    "    # Execute offsetting\n",
    "    df[\"x\"] = df.apply(lambda x: x[\"x\"] - x_off, axis=1)\n",
    "    df[\"y\"] = df.apply(lambda x: x[\"y\"] - y_off, axis=1)\n",
    "    df[\"t\"] = df.apply(lambda x: x[\"t\"] - t_off, axis=1)\n",
    "    # Execute scaling\n",
    "    df[\"x\"] = df.apply(lambda x: x[\"x\"] / x_scl, axis=1)\n",
    "    df[\"y\"] = df.apply(lambda x: x[\"y\"] / y_scl, axis=1)\n",
    "    df[\"t\"] = df.apply(lambda x: x[\"t\"] / t_scl, axis=1)\n",
    "    df.to_csv(\"{}/{}\".format(fold_data, file), index=False, mode='w')\n",
    "\n",
    "para[\"x_scl\"], para[\"y_scl\"], para[\"t_scl\"] = x_scl, y_scl, t_scl\n",
    "para[\"x_off\"], para[\"y_off\"], para[\"t_off\"] = x_off, y_off, t_off"
   ],
   "metadata": {
    "collapsed": false,
    "pycharm": {
     "name": "#%%\n"
    }
   }
  },
  {
   "cell_type": "code",
   "execution_count": 61,
   "outputs": [
    {
     "data": {
      "text/plain": "  0%|          | 0/1000 [00:00<?, ?it/s]",
      "application/vnd.jupyter.widget-view+json": {
       "version_major": 2,
       "version_minor": 0,
       "model_id": "e187e173463541feb33a90bda3dea1b0"
      }
     },
     "metadata": {},
     "output_type": "display_data"
    }
   ],
   "source": [
    "\"\"\" Points Interpolating \"\"\"\n",
    "for file in tqdm(files):\n",
    "    df = pd.read_csv(filepath_or_buffer=\"{}/{}\".format(fold_data, file), sep=\",\")\n",
    "    df.sort_values(by=['t'], inplace=True)\n",
    "    values = df.values\n",
    "    start_v = values[0]\n",
    "    new_values = [start_v]\n",
    "    for i in range(1, len(values)):\n",
    "        start_p = np.array([start_v[0], start_v[1], start_v[2]])\n",
    "        start_s = np.array([start_v[3]])\n",
    "        end_v = values[i]\n",
    "        end_p = np.array([end_v[0], end_v[1], end_v[2]])\n",
    "        end_s = np.array([end_v[3]])\n",
    "        if get_cell(start_p) == get_cell(end_p):\n",
    "            new_values.append(end_v)\n",
    "            start_v = end_v\n",
    "        else:\n",
    "            inter_ps = intermediate_points(start_p, end_p)\n",
    "            inter_ps = [np.concatenate((inter_p, start_s)) for inter_p in inter_ps]\n",
    "            new_values.extend(inter_ps)\n",
    "            new_values.append(end_v)\n",
    "            start_v = end_v\n",
    "    new_values = np.vstack(new_values)\n",
    "    new_df = pd.DataFrame(new_values, columns=[\"x\", \"y\", \"t\", \"s\"])\n",
    "    new_df.to_csv(\"{}/{}\".format(fold_data, file), index=False, mode='w')"
   ],
   "metadata": {
    "collapsed": false,
    "pycharm": {
     "name": "#%%\n"
    }
   }
  },
  {
   "cell_type": "code",
   "execution_count": 62,
   "outputs": [
    {
     "data": {
      "text/plain": "  0%|          | 0/1000 [00:00<?, ?it/s]",
      "application/vnd.jupyter.widget-view+json": {
       "version_major": 2,
       "version_minor": 0,
       "model_id": "eb1527df2f35455b92d024e65d5a9783"
      }
     },
     "metadata": {},
     "output_type": "display_data"
    }
   ],
   "source": [
    "\"\"\" Sequence Splitting \"\"\"\n",
    "scale = np.array([x_scl,y_scl,t_scl])\n",
    "for file in tqdm(files):\n",
    "    df = pd.read_csv(filepath_or_buffer=\"{}/{}\".format(fold_data, file))\n",
    "    values = df.values\n",
    "    start_v = values[0]\n",
    "    groups = []\n",
    "    group = []\n",
    "    for i in range(1, len(values)):\n",
    "        start_p = np.array([start_v[0], start_v[1], start_v[2]])\n",
    "        start_s = np.array([start_v[3]])\n",
    "        group.append((start_p*scale).astype(int))\n",
    "        end_v = values[i]\n",
    "        end_p = np.array([end_v[0], end_v[1], end_v[2]])\n",
    "        end_s = np.array([end_v[3]])\n",
    "        if get_cell(start_p) == get_cell(end_p) and start_s == end_s:\n",
    "            start_v = end_v\n",
    "        else:\n",
    "            start_v = end_v\n",
    "            group.append((end_p*scale).astype(int))\n",
    "            if depth_tree == 0:\n",
    "                groups.append({\"indexing_key\": 0, \"state\": int(start_s[0]), \"geometry\": get_linestring(group)})\n",
    "            else:\n",
    "                groups.append({\"indexing_key\": encode_morton(*get_cell(start_p), depth_tree), \"state\": int(start_s[0]), \"geometry\": get_linestring(group)})\n",
    "            group = []\n",
    "    if len(group) >= 2:\n",
    "        if depth_tree == 0:\n",
    "            groups.append({\"indexing_key\": 0, \"state\": int(start_s[0]), \"geometry\": get_linestring(group)})\n",
    "        else:\n",
    "            groups.append({\"indexing_key\": encode_morton(*get_cell(start_p), depth_tree), \"state\": int(start_s[0]), \"geometry\": get_linestring(group)})\n",
    "    new_df = pd.DataFrame(groups, columns=[\"indexing_key\", \"state\", \"geometry\"])\n",
    "    new_df.to_csv(\"{}/{}\".format(fold_data, file), mode='w', index=False)"
   ],
   "metadata": {
    "collapsed": false,
    "pycharm": {
     "name": "#%%\n"
    }
   }
  },
  {
   "cell_type": "code",
   "execution_count": 63,
   "outputs": [],
   "source": [
    "\"\"\" Parameters \"\"\"\n",
    "with open(\"{}/para_{}.json\".format(fold_para, depth_tree), \"w\") as json_file:\n",
    "    json.dump(para, json_file, default=json_numpy_serializer)"
   ],
   "metadata": {
    "collapsed": false,
    "pycharm": {
     "name": "#%%\n"
    }
   }
  }
 ],
 "metadata": {
  "kernelspec": {
   "display_name": "Python 3",
   "language": "python",
   "name": "python3"
  },
  "language_info": {
   "codemirror_mode": {
    "name": "ipython",
    "version": 2
   },
   "file_extension": ".py",
   "mimetype": "text/x-python",
   "name": "python",
   "nbconvert_exporter": "python",
   "pygments_lexer": "ipython2",
   "version": "2.7.6"
  }
 },
 "nbformat": 4,
 "nbformat_minor": 0
}