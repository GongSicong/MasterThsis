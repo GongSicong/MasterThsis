{
 "cells": [
  {
   "cell_type": "code",
   "execution_count": 6,
   "outputs": [],
   "source": [
    "\"\"\" Experiment Settings \"\"\"\n",
    "depth_tree, depth_query = 5, 5\n",
    "threshold_size = 100\n",
    "times = 10\n",
    "flag = True\n",
    "res = []"
   ],
   "metadata": {
    "collapsed": false,
    "pycharm": {
     "name": "#%%\n"
    }
   }
  },
  {
   "cell_type": "code",
   "execution_count": 7,
   "outputs": [],
   "source": [
    "\"\"\" Libraries \"\"\"\n",
    "import json\n",
    "import numpy as np\n",
    "import pandas as pd\n",
    "import psycopg2\n",
    "from matplotlib import pyplot as plt\n",
    "\n",
    "import nbimporter\n",
    "from Core import Ranges, nDTree, tree_shape_relation, draw_lines, draw_box, experiment_execution"
   ],
   "metadata": {
    "collapsed": false,
    "pycharm": {
     "name": "#%%\n"
    }
   }
  },
  {
   "cell_type": "code",
   "execution_count": 78,
   "outputs": [],
   "source": [
    "\"\"\" Database Connection \"\"\"\n",
    "conn_params = \"dbname='trajectory' user='gpadmin' host='192.168.59.101' password='1234' port=5432\"\n",
    "conn = psycopg2.connect(conn_params)\n",
    "cur = conn.cursor()"
   ],
   "metadata": {
    "collapsed": false,
    "pycharm": {
     "name": "#%%\n"
    }
   }
  },
  {
   "cell_type": "code",
   "execution_count": 79,
   "outputs": [],
   "source": [
    "\"\"\" Experiment Preparation: create traj table \"\"\"\n",
    "sql_traj_table = \"\"\"\n",
    "DROP EXTERNAL TABLE IF EXISTS traj_external;\n",
    "CREATE READABLE EXTERNAL TABLE traj_external (\n",
    "    indexing_key INTEGER,\n",
    "    state SMALLINT,\n",
    "    geometry GEOMETRY(LINESTRINGZ),\n",
    "    taxiid BIGINT,\n",
    "    distributing_key INTEGER\n",
    "    )\n",
    "    LOCATION ('gpfdist://192.168.59.101:8081/data_{}.csv')\n",
    "    FORMAT 'csv' (HEADER)\n",
    "    LOG ERRORS SEGMENT REJECT LIMIT 50 ROWS;\n",
    "\n",
    "DROP TABLE IF EXISTS traj;\n",
    "CREATE TABLE traj\n",
    "(\n",
    "    indexing_key     INTEGER,\n",
    "    state            SMALLINT,\n",
    "    geometry         GEOMETRY(LINESTRINGZ),\n",
    "    taxiid           BIGINT,\n",
    "    distributing_key INTEGER\n",
    ");\n",
    "\n",
    "INSERT INTO traj (indexing_key, state, geometry, taxiid, distributing_key)\n",
    "SELECT indexing_key, state, geometry, taxiid, distributing_key\n",
    "FROM traj_external;\n",
    "\n",
    "DROP TABLE IF EXISTS traj_dist;\n",
    "CREATE TABLE traj_dist\n",
    "(\n",
    "    indexing_key     INTEGER,\n",
    "    state            SMALLINT,\n",
    "    geometry         GEOMETRY(LINESTRINGZ),\n",
    "    taxiid           BIGINT,\n",
    "    distributing_key INTEGER\n",
    ") DISTRIBUTED BY (distributing_key);\n",
    "\n",
    "INSERT INTO traj_dist (indexing_key, state, geometry, taxiid, distributing_key)\n",
    "SELECT indexing_key, state, geometry, taxiid, distributing_key\n",
    "FROM traj;\n",
    "\"\"\".format(depth_tree)\n",
    "\n",
    "cur.execute(sql_traj_table)\n",
    "conn.commit()"
   ],
   "metadata": {
    "collapsed": false,
    "pycharm": {
     "name": "#%%\n"
    }
   }
  },
  {
   "cell_type": "code",
   "execution_count": 80,
   "outputs": [],
   "source": [
    "\"\"\" Experiment Preparation: create traj indexing \"\"\"\n",
    "sql_traj_index = \"\"\"\n",
    "DROP INDEX IF EXISTS traj_index_indexing_key;\n",
    "CREATE INDEX traj_index_indexing_key ON traj USING btree (indexing_key);\n",
    "DROP INDEX IF EXISTS traj_index_taxiid;\n",
    "CREATE INDEX traj_index_taxiid ON traj USING btree (taxiid);\n",
    "DROP INDEX IF EXISTS traj_index_state;\n",
    "CREATE INDEX traj_index_state ON traj USING bitmap (state);\n",
    "DROP INDEX IF EXISTS traj_dist_index_indexing_key;\n",
    "CREATE INDEX traj_dist_index_indexing_key ON traj_dist USING btree (indexing_key);\n",
    "DROP INDEX IF EXISTS traj_dist_index_taxiid;\n",
    "CREATE INDEX traj_dist_index_taxiid ON traj_dist USING btree (taxiid);\n",
    "DROP INDEX IF EXISTS traj_dist_index_state;\n",
    "CREATE INDEX traj_dist_index_state ON traj_dist USING bitmap (state);\n",
    " \"\"\"\n",
    "\n",
    "cur.execute(sql_traj_index)\n",
    "conn.commit()"
   ],
   "metadata": {
    "collapsed": false,
    "pycharm": {
     "name": "#%%\n"
    }
   }
  },
  {
   "cell_type": "code",
   "execution_count": 81,
   "outputs": [],
   "source": [
    "\"\"\" Experiment Preparation: create taxi table \"\"\"\n",
    "sql_taxi_table = \"\"\"DROP TABLE IF EXISTS taxi_table;\n",
    "CREATE TABLE taxi_table\n",
    "(\n",
    "    taxiid BIGINT\n",
    ");\n",
    "\n",
    "INSERT INTO taxi_table (taxiid)\n",
    "SELECT DISTINCT taxiid\n",
    "FROM traj\n",
    "WHERE taxiid IS NOT NULL\n",
    "LIMIT 100;\n",
    "\"\"\"\n",
    "\n",
    "cur.execute(sql_taxi_table)\n",
    "conn.commit()"
   ],
   "metadata": {
    "collapsed": false,
    "pycharm": {
     "name": "#%%\n"
    }
   }
  },
  {
   "cell_type": "code",
   "execution_count": 82,
   "outputs": [
    {
     "name": "stdout",
     "output_type": "stream",
     "text": [
      "experiment 4-a\n"
     ]
    },
    {
     "name": "stderr",
     "output_type": "stream",
     "text": [
      "100%|██████████| 10/10 [00:45<00:00,  4.51s/it]"
     ]
    },
    {
     "name": "stdout",
     "output_type": "stream",
     "text": [
      "timings: [5.022707462310791, 4.279371976852417, 4.50255823135376, 4.716436147689819, 4.4948999881744385, 4.24890923500061, 4.055376768112183, 4.482744455337524, 5.200610876083374, 4.08509373664856]\n",
      "median: 4.4888222217559814\n"
     ]
    },
    {
     "name": "stderr",
     "output_type": "stream",
     "text": [
      "\n"
     ]
    }
   ],
   "source": [
    "\"\"\" Experiment 4-a \"\"\"\n",
    "sql_experiment_4_a = \"\"\"\n",
    "SELECT st_astext(traj.geometry) AS geometry, traj.state\n",
    "FROM traj,\n",
    "     taxi_table\n",
    "WHERE traj.taxiid = taxi_table.taxiid;\n",
    "\"\"\"\n",
    "\n",
    "timings = []\n",
    "print(\"experiment 4-a\")\n",
    "records = experiment_execution(times, timings, sql_experiment_4_a, cur, flag)\n",
    "print(\"timings:\", timings)\n",
    "print(\"median:\", np.median(timings))\n",
    "res.append(np.median(timings))"
   ],
   "metadata": {
    "collapsed": false,
    "pycharm": {
     "name": "#%%\n"
    }
   }
  },
  {
   "cell_type": "code",
   "execution_count": 83,
   "outputs": [],
   "source": [
    "\"\"\" Visualization 4-a \"\"\"\n",
    "columns = [desc[0] for desc in cur.description]\n",
    "df = pd.DataFrame(records, columns=columns)\n",
    "#draw_lines(df, \"t4-a\")"
   ],
   "metadata": {
    "collapsed": false,
    "pycharm": {
     "name": "#%%\n"
    }
   }
  },
  {
   "cell_type": "code",
   "execution_count": 84,
   "outputs": [
    {
     "name": "stdout",
     "output_type": "stream",
     "text": [
      "experiment 4-b\n"
     ]
    },
    {
     "name": "stderr",
     "output_type": "stream",
     "text": [
      "100%|██████████| 10/10 [00:14<00:00,  1.46s/it]"
     ]
    },
    {
     "name": "stdout",
     "output_type": "stream",
     "text": [
      "timings: [1.424849271774292, 1.4700043201446533, 1.5290913581848145, 1.4373230934143066, 1.5545854568481445, 1.482288122177124, 1.384533405303955, 1.3099563121795654, 1.3703334331512451, 1.6132583618164062]\n",
      "median: 1.45366370677948\n"
     ]
    },
    {
     "name": "stderr",
     "output_type": "stream",
     "text": [
      "\n"
     ]
    }
   ],
   "source": [
    "\"\"\" Experiment 4-b \"\"\"\n",
    "sql_experiment_4_b = \"\"\"\n",
    "SELECT st_astext(traj.geometry) AS geometry, traj.state\n",
    "FROM traj,\n",
    "     taxi_table\n",
    "WHERE traj.taxiid = taxi_table.taxiid\n",
    "  AND traj.state = 1;\n",
    "\"\"\"\n",
    "\n",
    "timings = []\n",
    "print(\"experiment 4-b\")\n",
    "records = experiment_execution(times, timings, sql_experiment_4_b, cur, flag)\n",
    "print(\"timings:\", timings)\n",
    "print(\"median:\", np.median(timings))\n",
    "res.append(np.median(timings))"
   ],
   "metadata": {
    "collapsed": false,
    "pycharm": {
     "name": "#%%\n"
    }
   }
  },
  {
   "cell_type": "code",
   "execution_count": 85,
   "outputs": [],
   "source": [
    "\"\"\" Visualization 4-b \"\"\"\n",
    "columns = [desc[0] for desc in cur.description]\n",
    "df = pd.DataFrame(records, columns=columns)\n",
    "#draw_lines(df, \"t4-b\")"
   ],
   "metadata": {
    "collapsed": false,
    "pycharm": {
     "name": "#%%\n"
    }
   }
  },
  {
   "cell_type": "code",
   "execution_count": 86,
   "outputs": [],
   "source": [
    "\"\"\" Experiment Preparation: read parameters \"\"\"\n",
    "with open(\"para.json\", \"r\") as json_file:\n",
    "    para = json.load(json_file)\n",
    "fold_para = para[\"fold_para\"]\n",
    "with open(\"{}/para_{}.json\".format(fold_para, depth_tree), \"r\") as json_file:\n",
    "    para = json.load(json_file)\n",
    "\n",
    "dist = para[\"dist\"]\n",
    "x_scl = para[\"x_scl\"]\n",
    "y_scl = para[\"y_scl\"]\n",
    "t_scl = para[\"t_scl\"]"
   ],
   "metadata": {
    "collapsed": false,
    "pycharm": {
     "name": "#%%\n"
    }
   }
  },
  {
   "cell_type": "code",
   "execution_count": 87,
   "outputs": [
    {
     "name": "stdout",
     "output_type": "stream",
     "text": [
      "{'min': [0.7, 0.7, 0.1], 'max': [0.9, 0.9, 0.9]}\n"
     ]
    },
    {
     "data": {
      "text/plain": "<Figure size 600x600 with 1 Axes>",
      "image/png": "[encoded data removed]"
     },
     "metadata": {},
     "output_type": "display_data"
    },
    {
     "name": "stdout",
     "output_type": "stream",
     "text": [
      "{'min': [0.1, 0.1, 0.2], 'max': [0.9, 0.5, 0.3]}\n"
     ]
    },
    {
     "data": {
      "text/plain": "<Figure size 600x600 with 1 Axes>",
      "image/png": "[encoded data removed]"
     },
     "metadata": {},
     "output_type": "display_data"
    },
    {
     "name": "stdout",
     "output_type": "stream",
     "text": [
      "{'min': [0.1, 0.1, 0.1], 'max': [0.41747999999999996, 0.41747999999999996, 0.41747999999999996]}\n"
     ]
    },
    {
     "data": {
      "text/plain": "<Figure size 600x600 with 1 Axes>",
      "image/png": "[encoded data removed]"
     },
     "metadata": {},
     "output_type": "display_data"
    },
    {
     "name": "stdout",
     "output_type": "stream",
     "text": [
      "contained, continue 0 32767\n",
      "outside 0 4095\n",
      "outside 4096 8191\n",
      "outside 8192 12287\n",
      "outside 12288 16383\n",
      "outside 16384 20479\n",
      "outside 20480 24575\n",
      "intersected, continue 24576 28671\n",
      "intersected, continue 24576 25087\n",
      "outside 24576 24639\n",
      "outside 24640 24703\n",
      "outside 24832 24895\n",
      "outside 24896 24959\n",
      "intersected, stop 24960 25023\n",
      "intersected, stop 25024 25087\n",
      "intersected, continue 25088 25599\n",
      "outside 25088 25151\n",
      "outside 25152 25215\n",
      "outside 25216 25279\n",
      "outside 25280 25343\n",
      "outside 25344 25407\n",
      "outside 25408 25471\n",
      "intersected, stop 25472 25535\n",
      "intersected, stop 25536 25599\n",
      "intersected, continue 25600 26111\n",
      "outside 25664 25727\n",
      "outside 25728 25791\n",
      "outside 25792 25855\n",
      "intersected, stop 25856 25919\n",
      "intersected, stop 25920 25983\n",
      "intersected, stop 25984 26047\n",
      "intersected, stop 26048 26111\n",
      "intersected, continue 26112 26623\n",
      "outside 26112 26175\n",
      "outside 26176 26239\n",
      "outside 26240 26303\n",
      "outside 26304 26367\n",
      "intersected, stop 26368 26431\n",
      "intersected, stop 26432 26495\n",
      "intersected, stop 26496 26559\n",
      "intersected, stop 26560 26623\n",
      "intersected, continue 26624 27135\n",
      "outside 26624 26687\n",
      "outside 26688 26751\n",
      "outside 26880 26943\n",
      "outside 26944 27007\n",
      "intersected, stop 27008 27071\n",
      "intersected, stop 27072 27135\n",
      "intersected, continue 27136 27647\n",
      "outside 27136 27199\n",
      "outside 27200 27263\n",
      "outside 27392 27455\n",
      "outside 27456 27519\n",
      "intersected, stop 27520 27583\n",
      "intersected, stop 27584 27647\n",
      "intersected, continue 27648 28159\n",
      "intersected, stop 27648 27711\n",
      "inside 27712 27775\n",
      "intersected, stop 27776 27839\n",
      "intersected, stop 27840 27903\n",
      "intersected, stop 27904 27967\n",
      "intersected, stop 27968 28031\n",
      "intersected, stop 28032 28095\n",
      "intersected, stop 28096 28159\n",
      "intersected, continue 28160 28671\n",
      "inside 28160 28223\n",
      "inside 28224 28287\n",
      "intersected, stop 28288 28351\n",
      "intersected, stop 28352 28415\n",
      "intersected, stop 28416 28479\n",
      "intersected, stop 28480 28543\n",
      "intersected, stop 28544 28607\n",
      "intersected, stop 28608 28671\n",
      "intersected, continue 28672 32767\n",
      "intersected, continue 28672 29183\n",
      "outside 28672 28735\n",
      "outside 28736 28799\n",
      "outside 28800 28863\n",
      "outside 28864 28927\n",
      "outside 28928 28991\n",
      "outside 28992 29055\n",
      "intersected, stop 29056 29119\n",
      "intersected, stop 29120 29183\n",
      "intersected, continue 29184 29695\n",
      "outside 29184 29247\n",
      "outside 29248 29311\n",
      "outside 29312 29375\n",
      "outside 29376 29439\n",
      "outside 29440 29503\n",
      "outside 29504 29567\n",
      "intersected, stop 29568 29631\n",
      "intersected, stop 29632 29695\n",
      "intersected, continue 29696 30207\n",
      "outside 29696 29759\n",
      "outside 29760 29823\n",
      "outside 29824 29887\n",
      "outside 29888 29951\n",
      "intersected, stop 29952 30015\n",
      "intersected, stop 30016 30079\n",
      "intersected, stop 30080 30143\n",
      "intersected, stop 30144 30207\n",
      "intersected, continue 30208 30719\n",
      "outside 30208 30271\n",
      "outside 30272 30335\n",
      "outside 30336 30399\n",
      "outside 30400 30463\n",
      "intersected, stop 30464 30527\n",
      "intersected, stop 30528 30591\n",
      "intersected, stop 30592 30655\n",
      "intersected, stop 30656 30719\n",
      "intersected, continue 30720 31231\n",
      "outside 30720 30783\n",
      "outside 30784 30847\n",
      "intersected, stop 30912 30975\n",
      "outside 30976 31039\n",
      "outside 31040 31103\n",
      "intersected, stop 31104 31167\n",
      "intersected, stop 31168 31231\n",
      "intersected, continue 31232 31743\n",
      "outside 31232 31295\n",
      "outside 31296 31359\n",
      "intersected, stop 31424 31487\n",
      "outside 31488 31551\n",
      "outside 31552 31615\n",
      "intersected, stop 31616 31679\n",
      "intersected, stop 31680 31743\n",
      "intersected, continue 31744 32255\n",
      "inside 31744 31807\n",
      "inside 31808 31871\n",
      "intersected, stop 31872 31935\n",
      "intersected, stop 31936 31999\n",
      "intersected, stop 32000 32063\n",
      "intersected, stop 32064 32127\n",
      "intersected, stop 32128 32191\n",
      "intersected, stop 32192 32255\n",
      "intersected, continue 32256 32767\n",
      "inside 32256 32319\n",
      "intersected, stop 32320 32383\n",
      "intersected, stop 32384 32447\n",
      "intersected, stop 32448 32511\n",
      "intersected, stop 32512 32575\n",
      "intersected, stop 32576 32639\n",
      "intersected, stop 32640 32703\n",
      "intersected, stop 32704 32767\n",
      "contained, continue 0 32767\n",
      "intersected, continue 0 4095\n",
      "intersected, continue 0 511\n",
      "outside 0 63\n",
      "outside 256 319\n",
      "intersected, continue 320 383\n",
      "outside 320 327\n",
      "outside 328 335\n",
      "outside 352 359\n",
      "outside 360 367\n",
      "outside 368 375\n",
      "intersected, continue 376 383\n",
      "outside 381 381\n",
      "outside 384 447\n",
      "intersected, continue 512 1023\n",
      "outside 704 767\n",
      "intersected, continue 768 831\n",
      "outside 768 775\n",
      "outside 776 783\n",
      "outside 800 807\n",
      "outside 808 815\n",
      "intersected, stop 816 823\n",
      "outside 824 831\n",
      "outside 832 895\n",
      "intersected, continue 896 959\n",
      "intersected, stop 912 919\n",
      "intersected, stop 928 935\n",
      "intersected, stop 944 951\n",
      "outside 960 1023\n",
      "intersected, continue 1024 1535\n",
      "intersected, continue 1088 1151\n",
      "outside 1104 1111\n",
      "outside 1112 1119\n",
      "outside 1120 1127\n",
      "intersected, stop 1128 1135\n",
      "outside 1136 1143\n",
      "intersected, stop 1144 1151\n",
      "outside 1152 1215\n",
      "intersected, continue 1216 1279\n",
      "outside 1224 1231\n",
      "outside 1240 1247\n",
      "intersected, stop 1272 1279\n",
      "outside 1280 1343\n",
      "intersected, continue 1344 1407\n",
      "outside 1344 1351\n",
      "intersected, stop 1352 1359\n",
      "outside 1376 1383\n",
      "intersected, stop 1384 1391\n",
      "outside 1392 1399\n",
      "intersected, stop 1400 1407\n",
      "outside 1408 1471\n",
      "intersected, continue 1472 1535\n",
      "outside 1488 1495\n",
      "outside 1504 1511\n",
      "intersected, stop 1512 1519\n",
      "outside 1520 1527\n",
      "intersected, stop 1528 1535\n",
      "intersected, continue 1536 2047\n",
      "outside 1600 1663\n",
      "intersected, continue 1664 1727\n",
      "outside 1664 1671\n",
      "outside 1680 1687\n",
      "intersected, stop 1712 1719\n",
      "outside 1728 1791\n",
      "intersected, continue 1792 1855\n",
      "intersected, stop 1792 1799\n",
      "intersected, stop 1808 1815\n",
      "intersected, stop 1840 1847\n",
      "outside 1856 1919\n",
      "intersected, continue 1920 1983\n",
      "intersected, stop 1920 1927\n",
      "intersected, stop 1936 1943\n",
      "intersected, stop 1952 1959\n",
      "intersected, stop 1968 1975\n",
      "outside 1984 2047\n",
      "intersected, continue 2048 2559\n",
      "outside 2048 2111\n",
      "intersected, continue 2112 2175\n",
      "outside 2112 2119\n",
      "outside 2120 2127\n",
      "outside 2128 2135\n",
      "intersected, stop 2136 2143\n",
      "outside 2144 2151\n",
      "outside 2152 2159\n",
      "outside 2160 2167\n",
      "intersected, stop 2168 2175\n",
      "outside 2176 2239\n",
      "intersected, continue 2240 2303\n",
      "outside 2240 2247\n",
      "intersected, stop 2248 2255\n",
      "outside 2272 2279\n",
      "intersected, stop 2280 2287\n",
      "outside 2288 2295\n",
      "intersected, stop 2296 2303\n",
      "outside 2304 2367\n",
      "intersected, continue 2368 2431\n",
      "outside 2368 2375\n",
      "outside 2376 2383\n",
      "outside 2384 2391\n",
      "intersected, stop 2392 2399\n",
      "outside 2400 2407\n",
      "outside 2408 2415\n",
      "outside 2416 2423\n",
      "intersected, stop 2424 2431\n",
      "outside 2432 2495\n",
      "intersected, continue 2496 2559\n",
      "outside 2496 2503\n",
      "intersected, stop 2504 2511\n",
      "outside 2512 2519\n",
      "intersected, stop 2520 2527\n",
      "outside 2528 2535\n",
      "intersected, stop 2536 2543\n",
      "outside 2544 2551\n",
      "intersected, stop 2552 2559\n",
      "intersected, continue 2560 3071\n",
      "intersected, continue 2560 2623\n",
      "outside 2560 2567\n",
      "outside 2568 2575\n",
      "intersected, stop 2576 2583\n",
      "outside 2584 2591\n",
      "outside 2592 2599\n",
      "outside 2600 2607\n",
      "intersected, stop 2608 2615\n",
      "outside 2616 2623\n",
      "outside 2624 2687\n",
      "intersected, continue 2688 2751\n",
      "intersected, stop 2688 2695\n",
      "outside 2696 2703\n",
      "intersected, stop 2704 2711\n",
      "outside 2712 2719\n",
      "intersected, stop 2720 2727\n",
      "outside 2728 2735\n",
      "intersected, stop 2736 2743\n",
      "outside 2744 2751\n",
      "outside 2752 2815\n",
      "intersected, continue 2816 2879\n",
      "outside 2816 2823\n",
      "outside 2824 2831\n",
      "intersected, stop 2832 2839\n",
      "outside 2840 2847\n",
      "outside 2848 2855\n",
      "outside 2856 2863\n",
      "intersected, stop 2864 2871\n",
      "outside 2872 2879\n",
      "outside 2880 2943\n",
      "intersected, continue 2944 3007\n",
      "intersected, stop 2944 2951\n",
      "outside 2952 2959\n",
      "intersected, stop 2960 2967\n",
      "outside 2968 2975\n",
      "intersected, stop 2976 2983\n",
      "outside 2984 2991\n",
      "intersected, stop 2992 2999\n",
      "outside 3000 3007\n",
      "outside 3008 3071\n",
      "intersected, continue 3072 3583\n",
      "outside 3072 3135\n",
      "intersected, continue 3136 3199\n",
      "outside 3136 3143\n",
      "intersected, stop 3144 3151\n",
      "outside 3152 3159\n",
      "intersected, stop 3160 3167\n",
      "outside 3168 3175\n",
      "intersected, stop 3176 3183\n",
      "outside 3184 3191\n",
      "intersected, stop 3192 3199\n",
      "outside 3200 3263\n",
      "intersected, continue 3264 3327\n",
      "outside 3264 3271\n",
      "intersected, stop 3272 3279\n",
      "outside 3280 3287\n",
      "intersected, stop 3288 3295\n",
      "outside 3296 3303\n",
      "intersected, stop 3304 3311\n",
      "outside 3312 3319\n",
      "intersected, stop 3320 3327\n",
      "outside 3328 3391\n",
      "intersected, continue 3392 3455\n",
      "outside 3392 3399\n",
      "intersected, stop 3400 3407\n",
      "outside 3408 3415\n",
      "intersected, stop 3416 3423\n",
      "outside 3424 3431\n",
      "intersected, stop 3432 3439\n",
      "outside 3440 3447\n",
      "intersected, stop 3448 3455\n",
      "outside 3456 3519\n",
      "intersected, continue 3520 3583\n",
      "outside 3520 3527\n",
      "intersected, stop 3528 3535\n",
      "outside 3536 3543\n",
      "intersected, stop 3544 3551\n",
      "outside 3552 3559\n",
      "intersected, stop 3560 3567\n",
      "outside 3568 3575\n",
      "intersected, stop 3576 3583\n",
      "intersected, continue 3584 4095\n",
      "intersected, continue 3584 3647\n",
      "intersected, stop 3584 3591\n",
      "outside 3592 3599\n",
      "intersected, stop 3600 3607\n",
      "outside 3608 3615\n",
      "intersected, stop 3616 3623\n",
      "outside 3624 3631\n",
      "intersected, stop 3632 3639\n",
      "outside 3640 3647\n",
      "outside 3648 3711\n",
      "intersected, continue 3712 3775\n",
      "intersected, stop 3712 3719\n",
      "outside 3720 3727\n",
      "intersected, stop 3728 3735\n",
      "intersected, stop 3744 3751\n",
      "outside 3752 3759\n",
      "intersected, stop 3760 3767\n",
      "outside 3768 3775\n",
      "outside 3776 3839\n",
      "intersected, continue 3840 3903\n",
      "intersected, stop 3840 3847\n",
      "outside 3848 3855\n",
      "intersected, stop 3856 3863\n",
      "outside 3864 3871\n",
      "intersected, stop 3872 3879\n",
      "outside 3880 3887\n",
      "intersected, stop 3888 3895\n",
      "outside 3896 3903\n",
      "outside 3904 3967\n",
      "intersected, continue 3968 4031\n",
      "intersected, stop 3968 3975\n",
      "outside 3976 3983\n",
      "intersected, stop 3984 3991\n",
      "outside 3992 3999\n",
      "intersected, stop 4000 4007\n",
      "outside 4008 4015\n",
      "intersected, stop 4016 4023\n",
      "outside 4024 4031\n",
      "outside 4032 4095\n",
      "outside 4096 8191\n",
      "outside 8192 12287\n",
      "outside 12288 16383\n",
      "intersected, continue 16384 20479\n",
      "intersected, continue 16384 16895\n",
      "outside 16384 16447\n",
      "intersected, stop 16448 16511\n",
      "outside 16512 16575\n",
      "intersected, stop 16576 16639\n",
      "outside 16640 16703\n",
      "intersected, stop 16704 16767\n",
      "outside 16768 16831\n",
      "intersected, stop 16832 16895\n",
      "intersected, continue 16896 17407\n",
      "intersected, stop 16896 16959\n",
      "outside 16960 17023\n",
      "intersected, stop 17024 17087\n",
      "outside 17088 17151\n",
      "intersected, stop 17152 17215\n",
      "outside 17216 17279\n",
      "intersected, stop 17280 17343\n",
      "outside 17344 17407\n",
      "intersected, continue 17408 17919\n",
      "outside 17408 17471\n",
      "intersected, stop 17472 17535\n",
      "outside 17536 17599\n",
      "intersected, stop 17600 17663\n",
      "outside 17664 17727\n",
      "intersected, stop 17728 17791\n",
      "outside 17792 17855\n",
      "intersected, stop 17856 17919\n",
      "intersected, continue 17920 18431\n",
      "intersected, stop 17920 17983\n",
      "outside 17984 18047\n",
      "intersected, stop 18048 18111\n",
      "outside 18112 18175\n",
      "intersected, stop 18176 18239\n",
      "outside 18240 18303\n",
      "intersected, stop 18304 18367\n",
      "outside 18368 18431\n",
      "intersected, continue 18432 18943\n",
      "outside 18432 18495\n",
      "intersected, stop 18496 18559\n",
      "outside 18560 18623\n",
      "intersected, stop 18624 18687\n",
      "outside 18688 18751\n",
      "intersected, stop 18752 18815\n",
      "outside 18816 18879\n",
      "intersected, stop 18880 18943\n",
      "intersected, continue 18944 19455\n",
      "intersected, stop 18944 19007\n",
      "outside 19008 19071\n",
      "intersected, stop 19072 19135\n",
      "outside 19136 19199\n",
      "intersected, stop 19200 19263\n",
      "outside 19264 19327\n",
      "intersected, stop 19328 19391\n",
      "outside 19392 19455\n",
      "intersected, continue 19456 19967\n",
      "outside 19456 19519\n",
      "intersected, stop 19520 19583\n",
      "outside 19584 19647\n",
      "intersected, stop 19648 19711\n",
      "outside 19712 19775\n",
      "intersected, stop 19776 19839\n",
      "outside 19840 19903\n",
      "intersected, stop 19904 19967\n",
      "intersected, continue 19968 20479\n",
      "intersected, stop 19968 20031\n",
      "outside 20032 20095\n",
      "intersected, stop 20096 20159\n",
      "outside 20160 20223\n",
      "intersected, stop 20224 20287\n",
      "outside 20288 20351\n",
      "intersected, stop 20352 20415\n",
      "outside 20416 20479\n",
      "outside 20480 24575\n",
      "outside 24576 28671\n",
      "outside 28672 32767\n",
      "contained, continue 0 32767\n",
      "contained, continue 0 4095\n",
      "intersected, continue 0 511\n",
      "intersected, continue 0 63\n",
      "outside 32 39\n",
      "intersected, continue 256 319\n",
      "outside 256 263\n",
      "outside 264 271\n",
      "outside 288 295\n",
      "outside 296 303\n",
      "intersected, continue 320 383\n",
      "outside 320 327\n",
      "outside 328 335\n",
      "outside 352 359\n",
      "outside 360 367\n",
      "intersected, continue 368 375\n",
      "outside 372 372\n",
      "intersected, continue 376 383\n",
      "outside 381 381\n",
      "intersected, continue 384 447\n",
      "outside 400 407\n",
      "outside 432 439\n",
      "intersected, continue 512 1023\n",
      "intersected, continue 704 767\n",
      "intersected, stop 736 743\n",
      "outside 744 751\n",
      "intersected, stop 752 759\n",
      "outside 760 767\n",
      "intersected, continue 768 831\n",
      "outside 768 775\n",
      "outside 776 783\n",
      "outside 800 807\n",
      "outside 808 815\n",
      "intersected, stop 816 823\n",
      "intersected, stop 824 831\n",
      "intersected, continue 832 895\n",
      "outside 832 839\n",
      "outside 840 847\n",
      "intersected, stop 848 855\n",
      "outside 856 863\n",
      "outside 864 871\n",
      "outside 872 879\n",
      "intersected, stop 880 887\n",
      "outside 888 895\n",
      "inside 896 959\n",
      "intersected, continue 960 1023\n",
      "intersected, stop 960 967\n",
      "outside 968 975\n",
      "intersected, stop 976 983\n",
      "outside 984 991\n",
      "intersected, stop 992 999\n",
      "intersected, stop 1008 1015\n",
      "outside 1016 1023\n",
      "intersected, continue 1024 1535\n",
      "intersected, continue 1088 1151\n",
      "outside 1104 1111\n",
      "outside 1112 1119\n",
      "intersected, stop 1120 1127\n",
      "intersected, stop 1128 1135\n",
      "intersected, stop 1136 1143\n",
      "intersected, stop 1144 1151\n",
      "intersected, continue 1152 1215\n",
      "outside 1152 1159\n",
      "outside 1168 1175\n",
      "outside 1200 1207\n",
      "intersected, continue 1216 1279\n",
      "outside 1224 1231\n",
      "outside 1240 1247\n",
      "outside 1272 1279\n",
      "intersected, continue 1280 1343\n",
      "outside 1280 1287\n",
      "outside 1296 1303\n",
      "outside 1328 1335\n",
      "intersected, stop 1336 1343\n",
      "inside 1344 1407\n",
      "intersected, continue 1408 1471\n",
      "outside 1408 1415\n",
      "outside 1424 1431\n",
      "outside 1440 1447\n",
      "intersected, stop 1448 1455\n",
      "outside 1456 1463\n",
      "outside 1464 1471\n",
      "intersected, continue 1472 1535\n",
      "outside 1488 1495\n",
      "intersected, stop 1504 1511\n",
      "intersected, stop 1512 1519\n",
      "outside 1520 1527\n",
      "outside 1528 1535\n",
      "intersected, continue 1536 2047\n",
      "intersected, continue 1600 1663\n",
      "outside 1624 1631\n",
      "intersected, stop 1632 1639\n",
      "outside 1640 1647\n",
      "intersected, continue 1664 1727\n",
      "outside 1664 1671\n",
      "outside 1680 1687\n",
      "outside 1712 1719\n",
      "intersected, continue 1728 1791\n",
      "outside 1736 1743\n",
      "outside 1744 1751\n",
      "outside 1752 1759\n",
      "outside 1776 1783\n",
      "outside 1784 1791\n",
      "inside 1792 1855\n",
      "intersected, continue 1856 1919\n",
      "intersected, stop 1856 1863\n",
      "outside 1864 1871\n",
      "intersected, stop 1872 1879\n",
      "outside 1880 1887\n",
      "intersected, stop 1888 1895\n",
      "intersected, stop 1904 1911\n",
      "intersected, continue 1920 1983\n",
      "intersected, stop 1920 1927\n",
      "outside 1936 1943\n",
      "intersected, stop 1952 1959\n",
      "outside 1968 1975\n",
      "intersected, continue 1984 2047\n",
      "intersected, stop 1984 1991\n",
      "outside 1992 1999\n",
      "outside 2000 2007\n",
      "outside 2008 2015\n",
      "outside 2032 2039\n",
      "outside 2040 2047\n",
      "intersected, continue 2048 2559\n",
      "intersected, continue 2048 2111\n",
      "outside 2048 2055\n",
      "outside 2056 2063\n",
      "outside 2064 2071\n",
      "intersected, stop 2072 2079\n",
      "outside 2080 2087\n",
      "outside 2088 2095\n",
      "outside 2096 2103\n",
      "intersected, stop 2104 2111\n",
      "intersected, continue 2112 2175\n",
      "outside 2112 2119\n",
      "outside 2120 2127\n",
      "intersected, stop 2128 2135\n",
      "intersected, stop 2136 2143\n",
      "outside 2144 2151\n",
      "outside 2152 2159\n",
      "intersected, stop 2160 2167\n",
      "intersected, stop 2168 2175\n",
      "intersected, continue 2176 2239\n",
      "outside 2176 2183\n",
      "intersected, stop 2184 2191\n",
      "outside 2192 2199\n",
      "outside 2208 2215\n",
      "intersected, stop 2216 2223\n",
      "outside 2224 2231\n",
      "intersected, stop 2232 2239\n",
      "inside 2240 2303\n",
      "intersected, continue 2304 2367\n",
      "outside 2304 2311\n",
      "outside 2312 2319\n",
      "outside 2320 2327\n",
      "intersected, stop 2328 2335\n",
      "outside 2336 2343\n",
      "outside 2344 2351\n",
      "outside 2352 2359\n",
      "outside 2360 2367\n",
      "intersected, continue 2368 2431\n",
      "outside 2368 2375\n",
      "outside 2376 2383\n",
      "intersected, stop 2384 2391\n",
      "intersected, stop 2392 2399\n",
      "outside 2400 2407\n",
      "outside 2408 2415\n",
      "outside 2416 2423\n",
      "outside 2424 2431\n",
      "intersected, continue 2432 2495\n",
      "outside 2432 2439\n",
      "intersected, stop 2440 2447\n",
      "outside 2448 2455\n",
      "intersected, stop 2456 2463\n",
      "outside 2464 2471\n",
      "outside 2472 2479\n",
      "outside 2480 2487\n",
      "outside 2488 2495\n",
      "intersected, continue 2496 2559\n",
      "intersected, stop 2496 2503\n",
      "intersected, stop 2504 2511\n",
      "intersected, stop 2512 2519\n",
      "intersected, stop 2520 2527\n",
      "outside 2528 2535\n",
      "outside 2536 2543\n",
      "outside 2544 2551\n",
      "outside 2552 2559\n",
      "intersected, continue 2560 3071\n",
      "intersected, continue 2560 2623\n",
      "outside 2560 2567\n",
      "outside 2568 2575\n",
      "intersected, stop 2576 2583\n",
      "intersected, stop 2584 2591\n",
      "outside 2592 2599\n",
      "outside 2600 2607\n",
      "intersected, stop 2608 2615\n",
      "intersected, stop 2616 2623\n",
      "intersected, continue 2624 2687\n",
      "outside 2624 2631\n",
      "outside 2632 2639\n",
      "intersected, stop 2640 2647\n",
      "outside 2648 2655\n",
      "outside 2656 2663\n",
      "outside 2664 2671\n",
      "intersected, stop 2672 2679\n",
      "outside 2680 2687\n",
      "inside 2688 2751\n",
      "intersected, continue 2752 2815\n",
      "intersected, stop 2752 2759\n",
      "outside 2760 2767\n",
      "intersected, stop 2768 2775\n",
      "outside 2776 2783\n",
      "intersected, stop 2784 2791\n",
      "outside 2792 2799\n",
      "intersected, stop 2800 2807\n",
      "outside 2808 2815\n",
      "intersected, continue 2816 2879\n",
      "outside 2816 2823\n",
      "outside 2824 2831\n",
      "intersected, stop 2832 2839\n",
      "intersected, stop 2840 2847\n",
      "outside 2848 2855\n",
      "outside 2856 2863\n",
      "outside 2864 2871\n",
      "outside 2872 2879\n",
      "intersected, continue 2880 2943\n",
      "outside 2880 2887\n",
      "outside 2888 2895\n",
      "intersected, stop 2896 2903\n",
      "outside 2904 2911\n",
      "outside 2912 2919\n",
      "outside 2920 2927\n",
      "outside 2928 2935\n",
      "outside 2936 2943\n",
      "intersected, continue 2944 3007\n",
      "intersected, stop 2944 2951\n",
      "intersected, stop 2952 2959\n",
      "intersected, stop 2960 2967\n",
      "intersected, stop 2968 2975\n",
      "outside 2976 2983\n",
      "outside 2984 2991\n",
      "outside 2992 2999\n",
      "outside 3000 3007\n",
      "intersected, continue 3008 3071\n",
      "intersected, stop 3008 3015\n",
      "outside 3016 3023\n",
      "intersected, stop 3024 3031\n",
      "outside 3032 3039\n",
      "outside 3040 3047\n",
      "outside 3048 3055\n",
      "outside 3056 3063\n",
      "outside 3064 3071\n",
      "intersected, continue 3072 3583\n",
      "intersected, continue 3072 3135\n",
      "outside 3072 3079\n",
      "intersected, stop 3080 3087\n",
      "outside 3088 3095\n",
      "intersected, stop 3096 3103\n",
      "outside 3104 3111\n",
      "intersected, stop 3112 3119\n",
      "outside 3120 3127\n",
      "intersected, stop 3128 3135\n",
      "inside 3136 3199\n",
      "intersected, continue 3200 3263\n",
      "outside 3200 3207\n",
      "intersected, stop 3208 3215\n",
      "outside 3216 3223\n",
      "outside 3224 3231\n",
      "outside 3232 3239\n",
      "intersected, stop 3240 3247\n",
      "outside 3248 3255\n",
      "outside 3256 3263\n",
      "intersected, continue 3264 3327\n",
      "intersected, stop 3264 3271\n",
      "intersected, stop 3272 3279\n",
      "outside 3280 3287\n",
      "outside 3288 3295\n",
      "intersected, stop 3296 3303\n",
      "intersected, stop 3304 3311\n",
      "outside 3312 3319\n",
      "outside 3320 3327\n",
      "intersected, continue 3328 3391\n",
      "outside 3328 3335\n",
      "intersected, stop 3336 3343\n",
      "outside 3344 3351\n",
      "intersected, stop 3352 3359\n",
      "outside 3360 3367\n",
      "outside 3368 3375\n",
      "outside 3376 3383\n",
      "outside 3384 3391\n",
      "intersected, continue 3392 3455\n",
      "intersected, stop 3392 3399\n",
      "intersected, stop 3400 3407\n",
      "intersected, stop 3408 3415\n",
      "intersected, stop 3416 3423\n",
      "outside 3424 3431\n",
      "outside 3432 3439\n",
      "outside 3440 3447\n",
      "outside 3448 3455\n",
      "intersected, continue 3456 3519\n",
      "outside 3456 3463\n",
      "intersected, stop 3464 3471\n",
      "outside 3472 3479\n",
      "outside 3480 3487\n",
      "outside 3488 3495\n",
      "outside 3496 3503\n",
      "outside 3504 3511\n",
      "outside 3512 3519\n",
      "intersected, continue 3520 3583\n",
      "intersected, stop 3520 3527\n",
      "intersected, stop 3528 3535\n",
      "outside 3536 3543\n",
      "outside 3544 3551\n",
      "outside 3552 3559\n",
      "outside 3560 3567\n",
      "outside 3568 3575\n",
      "outside 3576 3583\n",
      "intersected, continue 3584 4095\n",
      "inside 3584 3647\n",
      "intersected, continue 3648 3711\n",
      "intersected, stop 3648 3655\n",
      "outside 3656 3663\n",
      "intersected, stop 3664 3671\n",
      "outside 3672 3679\n",
      "intersected, stop 3680 3687\n",
      "outside 3688 3695\n",
      "intersected, stop 3696 3703\n",
      "outside 3704 3711\n",
      "intersected, continue 3712 3775\n",
      "intersected, stop 3712 3719\n",
      "intersected, stop 3720 3727\n",
      "outside 3728 3735\n",
      "intersected, stop 3744 3751\n",
      "intersected, stop 3752 3759\n",
      "outside 3760 3767\n",
      "outside 3768 3775\n",
      "intersected, continue 3776 3839\n",
      "intersected, stop 3776 3783\n",
      "outside 3784 3791\n",
      "outside 3792 3799\n",
      "outside 3800 3807\n",
      "intersected, stop 3808 3815\n",
      "outside 3816 3823\n",
      "outside 3824 3831\n",
      "outside 3832 3839\n",
      "intersected, continue 3840 3903\n",
      "intersected, stop 3840 3847\n",
      "intersected, stop 3848 3855\n",
      "intersected, stop 3856 3863\n",
      "intersected, stop 3864 3871\n",
      "outside 3872 3879\n",
      "outside 3880 3887\n",
      "outside 3888 3895\n",
      "outside 3896 3903\n",
      "intersected, continue 3904 3967\n",
      "intersected, stop 3904 3911\n",
      "outside 3912 3919\n",
      "intersected, stop 3920 3927\n",
      "outside 3928 3935\n",
      "outside 3936 3943\n",
      "outside 3944 3951\n",
      "outside 3952 3959\n",
      "outside 3960 3967\n",
      "intersected, continue 3968 4031\n",
      "intersected, stop 3968 3975\n",
      "intersected, stop 3976 3983\n",
      "outside 3984 3991\n",
      "outside 3992 3999\n",
      "outside 4000 4007\n",
      "outside 4008 4015\n",
      "outside 4016 4023\n",
      "outside 4024 4031\n",
      "intersected, continue 4032 4095\n",
      "intersected, stop 4032 4039\n",
      "outside 4040 4047\n",
      "outside 4048 4055\n",
      "outside 4056 4063\n",
      "outside 4064 4071\n",
      "outside 4072 4079\n",
      "outside 4080 4087\n",
      "outside 4088 4095\n",
      "outside 4096 8191\n",
      "outside 8192 12287\n",
      "outside 12288 16383\n",
      "outside 16384 20479\n",
      "outside 20480 24575\n",
      "outside 24576 28671\n",
      "outside 28672 32767\n"
     ]
    }
   ],
   "source": [
    "\"\"\" Experiment Preparation: calculate ranges \"\"\"\n",
    "\n",
    "index_scale = 2 ** depth_tree\n",
    "queryShape_c = {\"min\": [0.7, 0.7, 0.1], \"max\": [0.9, 0.9, 0.9]}  # needle\n",
    "print(queryShape_c)\n",
    "draw_box(queryShape_c, \"t4-c-needle\")\n",
    "queryShape_d = {\"min\": [0.1, 0.1, 0.2], \"max\": [0.9, 0.5, 0.3]}  # slice\n",
    "print(queryShape_d)\n",
    "draw_box(queryShape_d, \"t4-d-slice\")\n",
    "queryShape_e = {\"min\": [0.1, 0.1, 0.1], \"max\": [0.41747999999999996, 0.41747999999999996, 0.41747999999999996]}  # dice\n",
    "print(queryShape_e)\n",
    "draw_box(queryShape_e, \"t4-e-dice\")\n",
    "queryShape_c[\"min\"] = [coord * index_scale for coord in queryShape_c[\"min\"]]\n",
    "queryShape_c[\"max\"] = [coord * index_scale for coord in queryShape_c[\"max\"]]\n",
    "queryShape_d[\"min\"] = [coord * index_scale for coord in queryShape_d[\"min\"]]\n",
    "queryShape_d[\"max\"] = [coord * index_scale for coord in queryShape_d[\"max\"]]\n",
    "queryShape_e[\"min\"] = [coord * index_scale for coord in queryShape_e[\"min\"]]\n",
    "queryShape_e[\"max\"] = [coord * index_scale for coord in queryShape_e[\"max\"]]\n",
    "# initialize tree\n",
    "tree = nDTree(depth_tree, dist, threshold_size)\n",
    "# calculate ranges\n",
    "values_c = tree.shapeQuery(queryShape_c, depth_query, tree_shape_relation)\n",
    "values_d = tree.shapeQuery(queryShape_d, depth_query, tree_shape_relation)\n",
    "values_e = tree.shapeQuery(queryShape_e, depth_query, tree_shape_relation)\n",
    "# initialize ranges (do clean merge)\n",
    "ranges_merged_c = Ranges(values_c)\n",
    "ranges_merged_d = Ranges(values_d)\n",
    "ranges_merged_e = Ranges(values_e)\n",
    "# only the relevant ranges\n",
    "ranges_c = [(range[0], range[1]) for range in ranges_merged_c.rangeList() if range[2] == 1 or range[2] == 0]\n",
    "ranges_d = [(range[0], range[1]) for range in ranges_merged_d.rangeList() if range[2] == 1 or range[2] == 0]\n",
    "ranges_e = [(range[0], range[1]) for range in ranges_merged_e.rangeList() if range[2] == 1 or range[2] == 0]\n",
    "# create query condition\n",
    "condition_c = ' OR '.join(['(%s <= indexing_key AND indexing_key <= %s )' % (r[0], r[1]) for r in ranges_c])\n",
    "condition_d = ' OR '.join(['(%s <= indexing_key AND indexing_key <= %s )' % (r[0], r[1]) for r in ranges_d])\n",
    "condition_e = ' OR '.join(['(%s <= indexing_key AND indexing_key <= %s )' % (r[0], r[1]) for r in ranges_e])"
   ],
   "metadata": {
    "collapsed": false,
    "pycharm": {
     "name": "#%%\n"
    }
   }
  },
  {
   "cell_type": "code",
   "execution_count": 88,
   "outputs": [
    {
     "name": "stdout",
     "output_type": "stream",
     "text": [
      "experiment 4-c\n"
     ]
    },
    {
     "name": "stderr",
     "output_type": "stream",
     "text": [
      "100%|██████████| 10/10 [00:21<00:00,  2.11s/it]"
     ]
    },
    {
     "name": "stdout",
     "output_type": "stream",
     "text": [
      "timings: [2.5499634742736816, 1.9515857696533203, 2.0014848709106445, 2.224268913269043, 2.205934762954712, 2.3388960361480713, 2.0105040073394775, 1.8320777416229248, 2.0392611026763916, 1.9288251399993896]\n",
      "median: 2.0248825550079346\n"
     ]
    },
    {
     "name": "stderr",
     "output_type": "stream",
     "text": [
      "\n"
     ]
    }
   ],
   "source": [
    "\"\"\" Experiment 4-c \"\"\"\n",
    "sql_experiment_4_c = \"\"\"\n",
    "SELECT st_astext(geometry) AS geometry, state\n",
    "FROM traj\n",
    "WHERE ({})\n",
    "  AND (geometry IS NOT NULL);\n",
    "\"\"\".format(condition_c)\n",
    "\n",
    "timings = []\n",
    "print(\"experiment 4-c\")\n",
    "records = experiment_execution(times, timings, sql_experiment_4_c, cur, flag)\n",
    "print(\"timings:\", timings)\n",
    "print(\"median:\", np.median(timings))\n",
    "res.append(np.median(timings))"
   ],
   "metadata": {
    "collapsed": false,
    "pycharm": {
     "name": "#%%\n"
    }
   }
  },
  {
   "cell_type": "code",
   "execution_count": 89,
   "outputs": [],
   "source": [
    "\"\"\" Visualization 4-c \"\"\"\n",
    "columns = [desc[0] for desc in cur.description]\n",
    "df = pd.DataFrame(records, columns=columns)\n",
    "#draw_lines(df, \"t4-c\")"
   ],
   "metadata": {
    "collapsed": false,
    "pycharm": {
     "name": "#%%\n"
    }
   }
  },
  {
   "cell_type": "code",
   "execution_count": 90,
   "outputs": [
    {
     "name": "stdout",
     "output_type": "stream",
     "text": [
      "experiment 4-d\n"
     ]
    },
    {
     "name": "stderr",
     "output_type": "stream",
     "text": [
      "100%|██████████| 10/10 [02:33<00:00, 15.37s/it]"
     ]
    },
    {
     "name": "stdout",
     "output_type": "stream",
     "text": [
      "timings: [15.408228158950806, 16.39258909225464, 16.048916816711426, 14.285718202590942, 15.355974197387695, 14.552903175354004, 16.03635811805725, 15.142207145690918, 15.102580785751343, 15.3628671169281]\n",
      "median: 15.359420657157898\n"
     ]
    },
    {
     "name": "stderr",
     "output_type": "stream",
     "text": [
      "\n"
     ]
    }
   ],
   "source": [
    "\"\"\" Experiment 4-d \"\"\"\n",
    "sql_experiment_4_d = \"\"\"\n",
    "SELECT st_astext(geometry) AS geometry, state\n",
    "FROM traj\n",
    "WHERE ({})\n",
    "  AND (geometry IS NOT NULL);\n",
    "\"\"\".format(condition_d)\n",
    "\n",
    "timings = []\n",
    "print(\"experiment 4-d\")\n",
    "records = experiment_execution(times, timings, sql_experiment_4_d, cur, flag)\n",
    "print(\"timings:\", timings)\n",
    "print(\"median:\", np.median(timings))\n",
    "res.append(np.median(timings))"
   ],
   "metadata": {
    "collapsed": false,
    "pycharm": {
     "name": "#%%\n"
    }
   }
  },
  {
   "cell_type": "code",
   "execution_count": 91,
   "outputs": [],
   "source": [
    "\"\"\" Visualization 4-d \"\"\"\n",
    "columns = [desc[0] for desc in cur.description]\n",
    "df = pd.DataFrame(records, columns=columns)\n",
    "#draw_lines(df, \"t4-d\")"
   ],
   "metadata": {
    "collapsed": false,
    "pycharm": {
     "name": "#%%\n"
    }
   }
  },
  {
   "cell_type": "code",
   "execution_count": 92,
   "outputs": [
    {
     "name": "stdout",
     "output_type": "stream",
     "text": [
      "experiment 4-e\n"
     ]
    },
    {
     "name": "stderr",
     "output_type": "stream",
     "text": [
      "100%|██████████| 10/10 [01:23<00:00,  8.33s/it]"
     ]
    },
    {
     "name": "stdout",
     "output_type": "stream",
     "text": [
      "timings: [8.076849222183228, 8.040711641311646, 7.99652624130249, 9.0244300365448, 8.661916494369507, 8.57891583442688, 8.685877799987793, 7.702243089675903, 7.94172215461731, 8.601444959640503]\n",
      "median: 8.327882528305054\n"
     ]
    },
    {
     "name": "stderr",
     "output_type": "stream",
     "text": [
      "\n"
     ]
    }
   ],
   "source": [
    "\"\"\" Experiment 4-e \"\"\"\n",
    "sql_experiment_4_e = \"\"\"\n",
    "SELECT st_astext(geometry) AS geometry, state\n",
    "FROM traj\n",
    "WHERE ({})\n",
    "  AND (geometry IS NOT NULL);\n",
    "\"\"\".format(condition_e)\n",
    "\n",
    "timings = []\n",
    "print(\"experiment 4-e\")\n",
    "records = experiment_execution(times, timings, sql_experiment_4_e, cur, flag)\n",
    "print(\"timings:\", timings)\n",
    "print(\"median:\", np.median(timings))\n",
    "res.append(np.median(timings))"
   ],
   "metadata": {
    "collapsed": false,
    "pycharm": {
     "name": "#%%\n"
    }
   }
  },
  {
   "cell_type": "code",
   "execution_count": 93,
   "outputs": [],
   "source": [
    "\"\"\" Visualization 4-e \"\"\"\n",
    "columns = [desc[0] for desc in cur.description]\n",
    "df = pd.DataFrame(records, columns=columns)\n",
    "#draw_lines(df, \"t4-e\")"
   ],
   "metadata": {
    "collapsed": false,
    "pycharm": {
     "name": "#%%\n"
    }
   }
  },
  {
   "cell_type": "code",
   "execution_count": 94,
   "outputs": [],
   "source": [
    "cur.close()\n",
    "conn.close()"
   ],
   "metadata": {
    "collapsed": false,
    "pycharm": {
     "name": "#%%\n"
    }
   }
  },
  {
   "cell_type": "code",
   "execution_count": 95,
   "outputs": [
    {
     "name": "stdout",
     "output_type": "stream",
     "text": [
      "[4.4888222217559814, 1.45366370677948, 2.0248825550079346, 15.359420657157898, 8.327882528305054]\n"
     ]
    }
   ],
   "source": [
    "print(res)"
   ],
   "metadata": {
    "collapsed": false,
    "pycharm": {
     "name": "#%%\n"
    }
   }
  },
  {
   "cell_type": "code",
   "execution_count": 8,
   "outputs": [],
   "source": [
    "num_node = [1, 2, 3, 4]\n",
    "res_1 = [4.4888222217559814, 1.45366370677948, 2.0248825550079346, 15.359420657157898, 8.327882528305054]\n",
    "res_2 = [2.370740532875061, 0.8471623659133911, 1.256090760231018, 8.385926961898804, 4.917688965797424]\n",
    "res_3 = [1.6017491817474365, 0.5573853254318237, 0.8825836181640625, 5.925011873245239, 3.353540062904358]\n",
    "res_4 = [1.2340415716171265, 0.4918555021286011, 0.7036291360855103, 4.643234491348267, 2.7545539140701294]"
   ],
   "metadata": {
    "collapsed": false,
    "pycharm": {
     "name": "#%%\n"
    }
   }
  },
  {
   "cell_type": "code",
   "execution_count": 9,
   "outputs": [],
   "source": [
    "t_4_a = []\n",
    "t_4_b = []\n",
    "t_4_c = []\n",
    "t_4_d = []\n",
    "t_4_e = []\n",
    "\n",
    "all_res = [res_1, res_2, res_3, res_4]\n",
    "\n",
    "for res in all_res:\n",
    "    t_4_a.append(res[0])\n",
    "    t_4_b.append(res[1])\n",
    "    t_4_c.append(res[2])\n",
    "    t_4_d.append(res[3])\n",
    "    t_4_e.append(res[4])"
   ],
   "metadata": {
    "collapsed": false,
    "pycharm": {
     "name": "#%%\n"
    }
   }
  },
  {
   "cell_type": "code",
   "execution_count": 10,
   "outputs": [
    {
     "name": "stdout",
     "output_type": "stream",
     "text": [
      "[4.49, 2.37, 1.6, 1.23]\n",
      "[1.45, 0.85, 0.56, 0.49]\n",
      "[2.02, 1.26, 0.88, 0.7]\n",
      "[15.36, 8.39, 5.93, 4.64]\n",
      "[8.33, 4.92, 3.35, 2.75]\n"
     ]
    }
   ],
   "source": [
    "print([round(val, 2) for val in t_4_a])\n",
    "print([round(val, 2) for val in t_4_b])\n",
    "print([round(val, 2) for val in t_4_c])\n",
    "print([round(val, 2) for val in t_4_d])\n",
    "print([round(val, 2) for val in t_4_e])"
   ],
   "metadata": {
    "collapsed": false,
    "pycharm": {
     "name": "#%%\n"
    }
   }
  },
  {
   "cell_type": "code",
   "execution_count": 11,
   "outputs": [],
   "source": [
    "a = t_4_a[0]\n",
    "b = t_4_b[0]\n",
    "c = t_4_c[0]\n",
    "d = t_4_d[0]\n",
    "e = t_4_e[0]\n",
    "t_4_a = [a / val for val in t_4_a]\n",
    "t_4_b = [b / val for val in t_4_b]\n",
    "t_4_c = [c / val for val in t_4_c]\n",
    "t_4_d = [d / val for val in t_4_d]\n",
    "t_4_e = [e / val for val in t_4_e]"
   ],
   "metadata": {
    "collapsed": false,
    "pycharm": {
     "name": "#%%\n"
    }
   }
  },
  {
   "cell_type": "code",
   "execution_count": 12,
   "outputs": [
    {
     "data": {
      "text/plain": "<Figure size 600x300 with 1 Axes>",
      "image/png": "[encoded data removed]"
     },
     "metadata": {},
     "output_type": "display_data"
    }
   ],
   "source": [
    "fig, ax1 = plt.subplots(figsize=(6, 3))\n",
    "\n",
    "ax1.set_xlabel('Node Number', fontdict={\"fontsize\": 8})\n",
    "ax1.set_ylabel('Relative Speed-up', color='tab:blue', fontdict={\"fontsize\": 8})\n",
    "ax1.tick_params(axis='y', labelcolor='tab:blue')\n",
    "ax1.plot(num_node, num_node, label='Linear Speed-up', color='tab:blue', marker='s', linewidth=1, linestyle='--')\n",
    "ax1.plot(num_node, t_4_a, label='t_4_a', color='tab:red', marker='^', linewidth=1)\n",
    "ax1.plot(num_node, t_4_b, label='t_4_b', color='tab:orange', marker='^', linewidth=1)\n",
    "ax1.plot(num_node, t_4_c, label='t_4_c', color='yellow', marker='^', linewidth=1)\n",
    "ax1.plot(num_node, t_4_d, label='t_4_d', color='tab:olive', marker='^', linewidth=1)\n",
    "ax1.plot(num_node, t_4_e, label='t_4_e', color='tab:green', marker='^', linewidth=1)\n",
    "ax1.legend(fontsize=8, loc='upper left', bbox_to_anchor=(0, 0.95))\n",
    "plt.xticks(num_node)\n",
    "fig.savefig(\"figs/speedup.pdf\", bbox_inches='tight')\n",
    "plt.show()"
   ],
   "metadata": {
    "collapsed": false,
    "pycharm": {
     "name": "#%%\n"
    }
   }
  }
 ],
 "metadata": {
  "kernelspec": {
   "display_name": "Python 3",
   "language": "python",
   "name": "python3"
  },
  "language_info": {
   "codemirror_mode": {
    "name": "ipython",
    "version": 2
   },
   "file_extension": ".py",
   "mimetype": "text/x-python",
   "name": "python",
   "nbconvert_exporter": "python",
   "pygments_lexer": "ipython2",
   "version": "2.7.6"
  }
 },
 "nbformat": 4,
 "nbformat_minor": 0
}