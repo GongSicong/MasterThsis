{
 "cells": [
  {
   "cell_type": "code",
   "execution_count": 73,
   "outputs": [],
   "source": [
    "depth_tree = 7"
   ],
   "metadata": {
    "collapsed": false,
    "pycharm": {
     "name": "#%%\n"
    }
   }
  },
  {
   "cell_type": "code",
   "execution_count": 74,
   "outputs": [],
   "source": [
    "\"\"\" Libraries \"\"\"\n",
    "import os\n",
    "import json\n",
    "import numpy as np\n",
    "import pandas as pd\n",
    "import psycopg2\n",
    "from psycopg2.extensions import register_adapter, AsIs\n",
    "from tqdm.auto import tqdm\n",
    "import nbimporter\n",
    "from Core import json_numpy_serializer\n",
    "\n",
    "pd.set_option('display.float_format', lambda x: '%.6f' % x)\n",
    "pd.set_option('display.max_rows', None)\n",
    "tqdm.pandas(desc=\"Processing time\")\n",
    "register_adapter(np.int64, lambda val: AsIs(int(val)))"
   ],
   "metadata": {
    "collapsed": false,
    "pycharm": {
     "name": "#%%\n"
    }
   }
  },
  {
   "cell_type": "code",
   "execution_count": 75,
   "outputs": [],
   "source": [
    "\"\"\" Parameters \"\"\"\n",
    "with open(\"para.json\", \"r\") as json_file:\n",
    "    para = json.load(json_file)\n",
    "fold_data = para[\"fold_data\"]"
   ],
   "metadata": {
    "collapsed": false,
    "pycharm": {
     "name": "#%%\n"
    }
   }
  },
  {
   "cell_type": "code",
   "execution_count": 76,
   "outputs": [
    {
     "data": {
      "text/plain": "  0%|          | 0/1000 [00:00<?, ?it/s]",
      "application/vnd.jupyter.widget-view+json": {
       "version_major": 2,
       "version_minor": 0,
       "model_id": "e59cf4dd3e4141919130708e04a5c649"
      }
     },
     "metadata": {},
     "output_type": "display_data"
    },
    {
     "name": "stdout",
     "output_type": "stream",
     "text": [
      "2102735\n"
     ]
    }
   ],
   "source": [
    "\"\"\" Data Concatenating \"\"\"\n",
    "files = os.listdir(fold_data)\n",
    "data = []\n",
    "for file in tqdm(files):\n",
    "    df = pd.read_csv(filepath_or_buffer=\"{}/{}\".format(fold_data, file), sep=\",\")\n",
    "    df[\"taxiId\"] = int(file.split(\".\")[0])\n",
    "    data.append(df)\n",
    "\n",
    "df = pd.concat(data)\n",
    "print(len(df))"
   ],
   "metadata": {
    "collapsed": false,
    "pycharm": {
     "name": "#%%\n"
    }
   }
  },
  {
   "cell_type": "code",
   "execution_count": 77,
   "outputs": [],
   "source": [
    "\"\"\" Dual Cell Filling \"\"\"\n",
    "indexing_keys_exist = set(df[\"indexing_key\"].tolist())\n",
    "indexing_keys_all = list(range(8 ** depth_tree))\n",
    "indexing_keys_dual = [indexing_key for indexing_key in indexing_keys_all if indexing_key not in indexing_keys_exist]\n",
    "\n",
    "df_dual = pd.DataFrame(indexing_keys_dual, columns=['indexing_key'])\n",
    "df_dual['geometry'] = None\n",
    "df_dual['state'] = None\n",
    "df_dual['taxiId'] = None"
   ],
   "metadata": {
    "collapsed": false,
    "pycharm": {
     "name": "#%%\n"
    }
   }
  },
  {
   "cell_type": "code",
   "execution_count": 78,
   "outputs": [],
   "source": [
    "\"\"\" File Writing \"\"\"\n",
    "df = pd.concat([df, df_dual])\n",
    "df[\"distributing_key\"] = df.apply(lambda x: int(x[\"indexing_key\"] / 8), axis=1)\n",
    "df.sort_values(by=['indexing_key'], inplace=True)\n",
    "df.to_csv(\"data_{}.csv\".format(depth_tree), header=False, index=False, mode='w')"
   ],
   "metadata": {
    "collapsed": false,
    "pycharm": {
     "name": "#%%\n"
    }
   }
  },
  {
   "cell_type": "code",
   "execution_count": 79,
   "outputs": [],
   "source": [
    "\"\"\" Database Connection \"\"\"\n",
    "conn_params = \"dbname='trajectory' user='postgres' host='localhost' password='990721' port=5432\"\n",
    "conn = psycopg2.connect(conn_params)\n",
    "cur = conn.cursor()"
   ],
   "metadata": {
    "collapsed": false,
    "pycharm": {
     "name": "#%%\n"
    }
   }
  },
  {
   "cell_type": "code",
   "execution_count": 80,
   "outputs": [
    {
     "data": {
      "text/plain": "0it [00:00, ?it/s]",
      "application/vnd.jupyter.widget-view+json": {
       "version_major": 2,
       "version_minor": 0,
       "model_id": "41967456d4804ac2abbaf7970ff0f676"
      }
     },
     "metadata": {},
     "output_type": "display_data"
    }
   ],
   "source": [
    "\"\"\" Create Table \"\"\"\n",
    "create_table_sql = \"\"\"\n",
    "DROP TABLE IF EXISTS traj_{};\n",
    "CREATE TABLE traj_{}\n",
    "(\n",
    "    taxiid BIGINT,\n",
    "    indexing_key     INTEGER,\n",
    "    state            SMALLINT,\n",
    "    geometry         GEOMETRY(LINESTRINGZ),\n",
    "    distributing_key INTEGER\n",
    ");\n",
    "\"\"\".format(depth_tree, depth_tree)\n",
    "cur.execute(create_table_sql)\n",
    "conn.commit()\n",
    "\n",
    "\"\"\" Insert Data \"\"\"\n",
    "insert_data_sql = \"\"\"\n",
    "INSERT INTO traj_{} (taxiid, indexing_key,state, geometry, distributing_key)\n",
    "VALUES (%s, %s, %s, st_geomfromtext(%s), %s);\n",
    "\"\"\".format(depth_tree)\n",
    "\n",
    "for index, row in tqdm(df.iterrows()):\n",
    "    data = (row['taxiId'], row['indexing_key'], row['state'], row['geometry'], row['distributing_key'])\n",
    "    cur.execute(insert_data_sql, data)\n",
    "conn.commit()"
   ],
   "metadata": {
    "collapsed": false,
    "pycharm": {
     "name": "#%%\n"
    }
   }
  },
  {
   "cell_type": "code",
   "execution_count": 81,
   "outputs": [],
   "source": [
    "\"\"\" Disconnect Database \"\"\"\n",
    "cur.close()\n",
    "conn.close()"
   ],
   "metadata": {
    "collapsed": false,
    "pycharm": {
     "name": "#%%\n"
    }
   }
  }
 ],
 "metadata": {
  "kernelspec": {
   "display_name": "Python 3",
   "language": "python",
   "name": "python3"
  },
  "language_info": {
   "codemirror_mode": {
    "name": "ipython",
    "version": 2
   },
   "file_extension": ".py",
   "mimetype": "text/x-python",
   "name": "python",
   "nbconvert_exporter": "python",
   "pygments_lexer": "ipython2",
   "version": "2.7.6"
  }
 },
 "nbformat": 4,
 "nbformat_minor": 0
}