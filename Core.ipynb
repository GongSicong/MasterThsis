{
 "cells": [
  {
   "cell_type": "code",
   "execution_count": 1,
   "outputs": [],
   "source": [
    "\"\"\" Libraries \"\"\"\n",
    "import time\n",
    "import numpy as np\n",
    "import matplotlib.pyplot as plt\n",
    "from tqdm import tqdm\n",
    "from shapely.wkt import loads\n",
    "from matplotlib.lines import Line2D\n",
    "from mpl_toolkits.mplot3d.art3d import Poly3DCollection"
   ],
   "metadata": {
    "collapsed": false,
    "pycharm": {
     "name": "#%%\n"
    }
   }
  },
  {
   "cell_type": "code",
   "execution_count": 2,
   "outputs": [],
   "source": [
    "\"\"\" Input a dataframe with two columns (linestring geometry attribute in string form, state in int form) and a name string, output the visualization \"\"\"\n",
    "\n",
    "\n",
    "def draw_lines(df, name):\n",
    "    list_state = df[\"state\"].tolist()\n",
    "    list_geometry = df[\"geometry\"].tolist()\n",
    "    list_lines = [loads(geometry) for geometry in list_geometry]\n",
    "    list_color = [\"black\" if state == 0 else \"orange\" for state in list_state]\n",
    "    del list_state, list_geometry\n",
    "\n",
    "    fig = plt.figure(figsize=(6, 8))\n",
    "    ax = fig.add_subplot(111, projection='3d')\n",
    "    for lines, color in tqdm(zip(list_lines, list_color)):\n",
    "        x, y, z = zip(*list(lines.coords))\n",
    "        ax.plot(x, y, z, c=color)\n",
    "    ax.set_xlabel('X')\n",
    "    ax.set_ylabel('Y')\n",
    "    ax.set_zlabel('T', labelpad=-30)\n",
    "    ax.set_xlim(0, 21664)\n",
    "    ax.set_ylim(0, 21352)\n",
    "    ax.set_zlim(0, 86400)\n",
    "    ax.set_proj_type('ortho')\n",
    "    ax.set_box_aspect([1, 1, 0.75])\n",
    "    legend_elements = [\n",
    "        Line2D([0], [0], color='black', lw=4, label='non-working'),\n",
    "        Line2D([0], [0], color='orange', lw=4, label='working')\n",
    "    ]\n",
    "    ax.legend(handles=legend_elements)\n",
    "    plt.show()\n",
    "    fig.savefig(\"figs/{}.png\".format(name), bbox_inches='tight')"
   ],
   "metadata": {
    "collapsed": false,
    "pycharm": {
     "name": "#%%\n"
    }
   }
  },
  {
   "cell_type": "code",
   "execution_count": 3,
   "outputs": [],
   "source": [
    "def draw_points(df, name, size):\n",
    "    list_state = df[\"state\"].tolist()\n",
    "    list_geometry = df[\"geometry\"].tolist()\n",
    "    list_lines = [loads(geometry) for geometry in list_geometry]\n",
    "    list_color = [\"black\" if state == 0 else \"orange\" for state in list_state]\n",
    "\n",
    "    fig = plt.figure(figsize=(6, 8))\n",
    "    ax = fig.add_subplot(111, projection='3d')\n",
    "\n",
    "    all_points = []\n",
    "    all_colors = []\n",
    "    for line, color in zip(list_lines, list_color):\n",
    "        points = np.array(line.coords)\n",
    "        num_points = len(points)\n",
    "        all_points.append(points)\n",
    "        all_colors.extend([color] * num_points)\n",
    "\n",
    "    all_points = np.concatenate(all_points)\n",
    "    xs, ys, zs = all_points[:, 0], all_points[:, 1], all_points[:, 2]\n",
    "\n",
    "    ax.scatter(xs, ys, zs, c=all_colors, marker='o', s=size)  # Reduce marker size here\n",
    "\n",
    "    ax.set_xlabel('X')\n",
    "    ax.set_ylabel('Y')\n",
    "    ax.set_zlabel('T', labelpad=-30)\n",
    "    ax.set_xlim(0, 21664)\n",
    "    ax.set_ylim(0, 21352)\n",
    "    ax.set_zlim(0, 86400)\n",
    "    ax.set_proj_type('ortho')\n",
    "    ax.set_box_aspect([1, 1, 0.75])\n",
    "\n",
    "    legend_elements = [\n",
    "        plt.Line2D([0], [0], marker='o', color='w', label='non-working', markerfacecolor='black', markersize=4),\n",
    "        plt.Line2D([0], [0], marker='o', color='w', label='working', markerfacecolor='orange', markersize=4)\n",
    "    ]\n",
    "    ax.legend(handles=legend_elements)\n",
    "\n",
    "    plt.show()\n",
    "    fig.savefig(\"figs/{}.png\".format(name), bbox_inches='tight')"
   ],
   "metadata": {
    "collapsed": false,
    "pycharm": {
     "name": "#%%\n"
    }
   }
  },
  {
   "cell_type": "code",
   "execution_count": 4,
   "outputs": [],
   "source": [
    "\"\"\" Input the two coners of the box and output the box for visualization \"\"\"\n",
    "\n",
    "\n",
    "def box_from_corners(corner1, corner2):\n",
    "    # Create vertices from corners\n",
    "    vertices = [\n",
    "        [corner1[0], corner1[1], corner1[2]],  # Bottom front left\n",
    "        [corner2[0], corner1[1], corner1[2]],  # Bottom front right\n",
    "        [corner2[0], corner2[1], corner1[2]],  # Bottom back right\n",
    "        [corner1[0], corner2[1], corner1[2]],  # Bottom back left\n",
    "        [corner1[0], corner1[1], corner2[2]],  # Top front left\n",
    "        [corner2[0], corner1[1], corner2[2]],  # Top front right\n",
    "        [corner2[0], corner2[1], corner2[2]],  # Top back right\n",
    "        [corner1[0], corner2[1], corner2[2]]  # Top back left\n",
    "    ]\n",
    "\n",
    "    # Create faces using vertices\n",
    "    box = [\n",
    "        [vertices[0], vertices[1], vertices[2], vertices[3]],  # Bottom face\n",
    "        [vertices[4], vertices[5], vertices[6], vertices[7]],  # Top face\n",
    "        [vertices[0], vertices[3], vertices[7], vertices[4]],  # Left face\n",
    "        [vertices[1], vertices[2], vertices[6], vertices[5]],  # Right face\n",
    "        [vertices[2], vertices[3], vertices[7], vertices[6]],  # Back face\n",
    "        [vertices[0], vertices[1], vertices[5], vertices[4]]  # Front face\n",
    "    ]\n",
    "\n",
    "    return box"
   ],
   "metadata": {
    "collapsed": false,
    "pycharm": {
     "name": "#%%\n"
    }
   }
  },
  {
   "cell_type": "code",
   "execution_count": 5,
   "outputs": [],
   "source": [
    "\"\"\" Input the shape of the box, output the visualization \"\"\"\n",
    "\n",
    "\n",
    "def draw_box(shape, name):\n",
    "    box = box_from_corners(shape[\"min\"], shape[\"max\"])\n",
    "    fig = plt.figure(figsize=(6, 6))\n",
    "    ax = fig.add_subplot(111, projection='3d')\n",
    "    ax.add_collection3d(Poly3DCollection(box, facecolors='red', linewidths=1, edgecolors='r', alpha=0.1))\n",
    "    ax.set_xlabel('X')\n",
    "    ax.set_ylabel('Y')\n",
    "    ax.set_zlabel('T', labelpad=-15)\n",
    "    ax.set_xlim(0, 1)\n",
    "    ax.set_ylim(0, 1)\n",
    "    ax.set_zlim(0, 1)\n",
    "    ax.set_proj_type('ortho')\n",
    "    ax.set_box_aspect([1, 1, 0.75])\n",
    "    plt.show()\n",
    "    fig.savefig(\"figs/{}.pdf\".format(name), bbox_inches='tight')"
   ],
   "metadata": {
    "collapsed": false,
    "pycharm": {
     "name": "#%%\n"
    }
   }
  },
  {
   "cell_type": "code",
   "execution_count": 6,
   "outputs": [],
   "source": [
    "\"\"\" Input the times for executions, the timing list, the sql expression and the curser, modify the timing list and the curser, output the records \"\"\"\n",
    "\n",
    "\n",
    "def experiment_execution(times, timings, sql, cur, flag):\n",
    "    for _ in tqdm(range(times)):\n",
    "        time_start = time.time()\n",
    "        if flag:\n",
    "            cur.execute(sql)\n",
    "            records = cur.fetchall()\n",
    "            time_end = time.time()\n",
    "        else:\n",
    "            cur.execute(sql)\n",
    "            time_end = time.time()\n",
    "            records = cur.fetchall()\n",
    "        timings.append(time_end - time_start)\n",
    "    return records"
   ],
   "metadata": {
    "collapsed": false,
    "pycharm": {
     "name": "#%%\n"
    }
   }
  },
  {
   "cell_type": "code",
   "execution_count": 7,
   "outputs": [],
   "source": [
    "\"\"\" Input a list of 3d points, output a linestring geometry in string form \"\"\"\n",
    "\n",
    "\n",
    "def get_linestring(points):\n",
    "    points_str = ['{} {} {}'.format(*point) for point in points]\n",
    "    points_string = ', '.join(points_str)\n",
    "    return 'LINESTRING Z ({})'.format(points_string)"
   ],
   "metadata": {
    "collapsed": false,
    "pycharm": {
     "name": "#%%\n"
    }
   }
  },
  {
   "cell_type": "code",
   "execution_count": 8,
   "outputs": [],
   "source": [
    "\"\"\" The custom serializer function, used for JSON file exchange \"\"\"\n",
    "\n",
    "\n",
    "def json_numpy_serializer(obj):\n",
    "    if isinstance(obj, np.integer):\n",
    "        return int(obj)\n",
    "    elif isinstance(obj, np.floating):\n",
    "        return float(obj)\n",
    "    elif isinstance(obj, np.ndarray):\n",
    "        return obj.tolist()\n",
    "    else:\n",
    "        raise TypeError(f\"Object of type {obj.__class__.__name__} is not JSON serializable\")"
   ],
   "metadata": {
    "collapsed": false,
    "pycharm": {
     "name": "#%%\n"
    }
   }
  },
  {
   "cell_type": "code",
   "execution_count": 9,
   "outputs": [],
   "source": [
    "\"\"\" Encode 2d row curve \"\"\"\n",
    "\n",
    "\n",
    "def encode_row(x, y, depth):\n",
    "    row = x * (2 ** depth) + y\n",
    "    return row"
   ],
   "metadata": {
    "collapsed": false,
    "pycharm": {
     "name": "#%%\n"
    }
   }
  },
  {
   "cell_type": "code",
   "execution_count": 10,
   "outputs": [],
   "source": [
    "\"\"\" Decode 2d row curve \"\"\"\n",
    "\n",
    "\n",
    "def decode_row(row, depth):\n",
    "    x, y = divmod(row, 2 ** depth)\n",
    "    return x, y"
   ],
   "metadata": {
    "collapsed": false,
    "pycharm": {
     "name": "#%%\n"
    }
   }
  },
  {
   "cell_type": "code",
   "execution_count": 11,
   "outputs": [],
   "source": [
    "\"\"\" Encode 2d morton curve \"\"\"\n",
    "\n",
    "\n",
    "def encode_morton_2d(x, y, depth):\n",
    "    x_b = bin(x)[2:].zfill(depth)\n",
    "    y_b = bin(y)[2:].zfill(depth)\n",
    "    m_b = \"\"\n",
    "    for i in range(depth):\n",
    "        m_b += x_b[i] + y_b[i]\n",
    "    return int(m_b, 2)"
   ],
   "metadata": {
    "collapsed": false,
    "pycharm": {
     "name": "#%%\n"
    }
   }
  },
  {
   "cell_type": "code",
   "execution_count": 12,
   "outputs": [],
   "source": [
    "\"\"\" Decode 2d morton curve \"\"\"\n",
    "\n",
    "\n",
    "def decode_morton_2d(morton, depth):\n",
    "    m_b = bin(morton)[2:].zfill(depth * 2)\n",
    "    x_b, y_b = \"\", \"\"\n",
    "    for i in range(depth):\n",
    "        x_b += m_b[2 * i]\n",
    "        y_b += m_b[2 * i + 1]\n",
    "    return int(x_b, 2), int(y_b, 2)"
   ],
   "metadata": {
    "collapsed": false,
    "pycharm": {
     "name": "#%%\n"
    }
   }
  },
  {
   "cell_type": "code",
   "execution_count": 13,
   "outputs": [],
   "source": [
    "\"\"\" Encode 3d morton curve \"\"\"\n",
    "\n",
    "\n",
    "def encode_morton(x, y, t, depth):\n",
    "    x_b = bin(x)[2:].zfill(depth)\n",
    "    y_b = bin(y)[2:].zfill(depth)\n",
    "    t_b = bin(t)[2:].zfill(depth)\n",
    "    m_b = \"\"\n",
    "    for i in range(depth):\n",
    "        m_b += x_b[i] + y_b[i] + t_b[i]\n",
    "    return int(m_b, 2)"
   ],
   "metadata": {
    "collapsed": false,
    "pycharm": {
     "name": "#%%\n"
    }
   }
  },
  {
   "cell_type": "code",
   "execution_count": 14,
   "outputs": [],
   "source": [
    "\"\"\" Decode 3d morton curve \"\"\"\n",
    "\n",
    "\n",
    "def decode_morton(morton, depth):\n",
    "    m_b = bin(morton)[2:].zfill(depth * 3)\n",
    "    x_b, y_b, t_b = \"\", \"\", \"\"\n",
    "    for i in range(depth):\n",
    "        x_b += m_b[3 * i]\n",
    "        y_b += m_b[3 * i + 1]\n",
    "        t_b += m_b[3 * i + 2]\n",
    "    return int(x_b, 2), int(y_b, 2), int(t_b, 2)"
   ],
   "metadata": {
    "collapsed": false,
    "pycharm": {
     "name": "#%%\n"
    }
   }
  },
  {
   "cell_type": "code",
   "execution_count": 15,
   "outputs": [],
   "source": [
    "\"\"\" Convert a point to cell by flooring its coordinates \"\"\"\n",
    "\n",
    "\n",
    "def get_cell(point):\n",
    "    return tuple(map(int, np.floor(point)))"
   ],
   "metadata": {
    "collapsed": false,
    "pycharm": {
     "name": "#%%\n"
    }
   }
  },
  {
   "cell_type": "code",
   "execution_count": 16,
   "outputs": [],
   "source": [
    "\"\"\" Calculate the next point intersected with the boundary based on the direction, avoiding overshooting past the containing the end point \"\"\"\n",
    "\n",
    "\n",
    "def next_point(curr_p, direction, end_p, t):\n",
    "    for i in range(len(direction)):\n",
    "        if direction[i] != 0:\n",
    "            if direction[i] > 0:\n",
    "                target_boundary = np.floor(curr_p[i]) + 1\n",
    "            else:\n",
    "                target_boundary = np.ceil(curr_p[i]) - 1\n",
    "\n",
    "            proposed_t = (target_boundary - curr_p[i]) / direction[i]\n",
    "            next_p_proposal = curr_p + direction * proposed_t\n",
    "            if ((direction[i] > 0 and next_p_proposal[i] > end_p[i]) or\n",
    "                    (direction[i] < 0 and next_p_proposal[i] < end_p[i])):\n",
    "                t[i] = np.inf\n",
    "            else:\n",
    "                t[i] = proposed_t\n",
    "        else:\n",
    "            t[i] = np.inf\n",
    "\n",
    "    t_min = np.min(t)\n",
    "    if t_min == np.inf:\n",
    "        return end_p\n",
    "    return curr_p + direction * t_min"
   ],
   "metadata": {
    "collapsed": false,
    "pycharm": {
     "name": "#%%\n"
    }
   }
  },
  {
   "cell_type": "code",
   "execution_count": 17,
   "outputs": [],
   "source": [
    "\"\"\" Input two extremes of a unit points, output the intermediate points \"\"\"\n",
    "\n",
    "\n",
    "def intermediate_points(start_p, end_p):\n",
    "    direction = end_p - start_p\n",
    "    t = np.zeros_like(direction)\n",
    "\n",
    "    points = []\n",
    "\n",
    "    curr_p = start_p.copy()\n",
    "    while not np.array_equal(get_cell(curr_p), get_cell(end_p)):\n",
    "        next_p = next_point(curr_p, direction, end_p, t)\n",
    "        if np.array_equal(next_p, end_p) or np.array_equal(next_p, curr_p):\n",
    "            break\n",
    "        points.append(next_p)\n",
    "        curr_p = next_p\n",
    "\n",
    "    # Check if points list is empty or the last point is not the end point, and add end point if necessary.\n",
    "    if len(points) == 0 or not np.array_equal(points[-1], end_p):\n",
    "        pass\n",
    "\n",
    "    return np.array(points)"
   ],
   "metadata": {
    "collapsed": false,
    "pycharm": {
     "name": "#%%\n"
    }
   }
  },
  {
   "cell_type": "code",
   "execution_count": 18,
   "outputs": [],
   "source": [
    "\"\"\" Node for Octree \"\"\"\n",
    "\n",
    "\n",
    "class nDNode:\n",
    "    def __init__(self, depth_tree, depth_node, morton, size):\n",
    "        self.depth_tree = depth_tree\n",
    "        self.depth_node = depth_node\n",
    "        self.morton = morton\n",
    "        self.left = morton * 8 ** (depth_tree - depth_node)\n",
    "        self.right = (morton + 1) * 8 ** (depth_tree - depth_node) - 1\n",
    "        self.size = size\n",
    "        corner_min = decode_morton(self.left, depth_tree + 1)\n",
    "        corner_max = decode_morton(self.right, depth_tree + 1)\n",
    "        corner_max = tuple(component + 1 for component in corner_max)\n",
    "        self.box = {\"min\": corner_min, \"max\": corner_max}\n",
    "        self.child = list()\n",
    "\n",
    "    def __str__(self):\n",
    "        return \"depth_tree:{},\\t depth_node:{},\\t morton:{},\\t left:{},\\t right:{},\\t size:{}\".format(self.depth_tree, self.depth_node, self.morton, self.left, self.right, self.size)"
   ],
   "metadata": {
    "collapsed": false,
    "pycharm": {
     "name": "#%%\n"
    }
   }
  },
  {
   "cell_type": "code",
   "execution_count": 19,
   "outputs": [],
   "source": [
    "\"\"\" Determine the point and box relationship \"\"\"\n",
    "\n",
    "\n",
    "def point_box_relation(point, box):\n",
    "    x, y, z = point\n",
    "    xmin, ymin, zmin = box['min']\n",
    "    xmax, ymax, zmax = box['max']\n",
    "\n",
    "    # Check if the point is inside the box\n",
    "    if xmin < x < xmax and ymin < y < ymax and zmin < z < zmax:\n",
    "        return 1\n",
    "\n",
    "    # Check if the point is on the box\n",
    "    if xmin <= x <= xmax and ymin <= y <= ymax and zmin <= z <= zmax:\n",
    "        on_x_min_max = (x == xmin or x == xmax)\n",
    "        on_y_min_max = (y == ymin or y == ymax)\n",
    "        on_z_min_max = (z == zmin or z == zmax)\n",
    "        count_true = sum([on_x_min_max, on_y_min_max, on_z_min_max])\n",
    "\n",
    "        if count_true == 3:\n",
    "            return 0\n",
    "        elif count_true == 2:\n",
    "            return 0\n",
    "        elif count_true == 1:\n",
    "            return 0\n",
    "\n",
    "    # If none of the above, the point must be outside the box\n",
    "    return -1"
   ],
   "metadata": {
    "collapsed": false,
    "pycharm": {
     "name": "#%%\n"
    }
   }
  },
  {
   "cell_type": "code",
   "execution_count": 20,
   "outputs": [],
   "source": [
    "\"\"\" Check the box to box relationship \"\"\"\n",
    "\n",
    "\n",
    "def check_relation(relations):\n",
    "    case_in = 1 in relations\n",
    "    case_on = 0 in relations\n",
    "    case_ex = -1 in relations\n",
    "\n",
    "    if case_in and case_on and case_ex:\n",
    "        return \"intersected\"\n",
    "    elif case_in and case_on and not case_ex:\n",
    "        return \"inside\"\n",
    "    elif case_in and not case_on and case_ex:\n",
    "        return \"intersected\"\n",
    "    elif case_in and not case_on and not case_ex:\n",
    "        return \"inside\"\n",
    "    elif not case_in and case_on and case_ex:\n",
    "        return \"outside\"\n",
    "    elif not case_in and case_on and not case_ex:\n",
    "        return None\n",
    "    elif not case_in and not case_on and case_ex:\n",
    "        return \"outside\"\n",
    "    elif not case_in and not case_on and not case_ex:\n",
    "        return None"
   ],
   "metadata": {
    "collapsed": false,
    "pycharm": {
     "name": "#%%\n"
    }
   }
  },
  {
   "cell_type": "code",
   "execution_count": 21,
   "outputs": [],
   "source": [
    "\"\"\" Determine the box and box relationship \"\"\"\n",
    "\n",
    "\n",
    "def tree_shape_relation(treeBox, shapeBox):\n",
    "    # Generate all corners of treeBox and shapeBox\n",
    "    tree_corners = [\n",
    "        [x, y, z]\n",
    "        for x in [treeBox['min'][0], treeBox['max'][0]]\n",
    "        for y in [treeBox['min'][1], treeBox['max'][1]]\n",
    "        for z in [treeBox['min'][2], treeBox['max'][2]]\n",
    "    ]\n",
    "    shape_corners = [\n",
    "        [x, y, z]\n",
    "        for x in [shapeBox['min'][0], shapeBox['max'][0]]\n",
    "        for y in [shapeBox['min'][1], shapeBox['max'][1]]\n",
    "        for z in [shapeBox['min'][2], shapeBox['max'][2]]\n",
    "    ]\n",
    "\n",
    "    tree_to_shape = [point_box_relation(corner, shapeBox) for corner in tree_corners]\n",
    "    shape_to_tree = [point_box_relation(corner, treeBox) for corner in shape_corners]\n",
    "\n",
    "    if check_relation(shape_to_tree) == \"inside\" and check_relation(tree_to_shape) == \"inside\":\n",
    "        return None\n",
    "    elif check_relation(shape_to_tree) == \"inside\" and check_relation(tree_to_shape) == \"intersected\":\n",
    "        return \"intersected\"\n",
    "    elif check_relation(shape_to_tree) == \"inside\" and check_relation(tree_to_shape) == \"outside\":\n",
    "        return \"contained\"\n",
    "    elif check_relation(shape_to_tree) == \"intersected\" and check_relation(tree_to_shape) == \"inside\":\n",
    "        return \"intersected\"\n",
    "    elif check_relation(shape_to_tree) == \"intersected\" and check_relation(tree_to_shape) == \"intersected\":\n",
    "        return \"intersected\"\n",
    "    elif check_relation(shape_to_tree) == \"intersected\" and check_relation(tree_to_shape) == \"outside\":\n",
    "        return \"intersected\"\n",
    "    elif check_relation(shape_to_tree) == \"outside\" and check_relation(tree_to_shape) == \"inside\":\n",
    "        return \"inside\"\n",
    "    elif check_relation(shape_to_tree) == \"outside\" and check_relation(tree_to_shape) == \"intersected\":\n",
    "        return \"intersected\"\n",
    "    else:\n",
    "        # elif check_relation(shape_to_tree) == \"outside\" and check_relation(tree_to_shape) == \"outside\":\n",
    "        return \"outside\""
   ],
   "metadata": {
    "collapsed": false,
    "pycharm": {
     "name": "#%%\n"
    }
   }
  },
  {
   "cell_type": "code",
   "execution_count": 22,
   "outputs": [],
   "source": [
    "\"\"\" Class for Octree \"\"\"\n",
    "\n",
    "\n",
    "class nDTree:\n",
    "    def __init__(self, depth_tree, dist, threshold_size):\n",
    "        # Initialize the root node\n",
    "        self.root = nDNode(depth_tree, 0, dist[0][0][0], dist[0][0][1])\n",
    "        # Consider root node as parent\n",
    "        parents = [self.root]\n",
    "        # For each level of the tree\n",
    "        for i in range(1, depth_tree + 1):\n",
    "            # Map the parents and their children\n",
    "            children = dist[i]\n",
    "            j = 0\n",
    "            new_parents = []\n",
    "            # For each parent\n",
    "            for parent in parents:\n",
    "                # Size of parent is so small, no need to refine\n",
    "                if parent.size <= threshold_size:\n",
    "                    continue\n",
    "                # Not all the children are traversed\n",
    "                while j < len(children):\n",
    "                    # If this child belong to this parent\n",
    "                    if parent.left <= children[j][0] * 8 ** (depth_tree - i) <= parent.right:\n",
    "                        # If the parent does not have child currently\n",
    "                        if parent.child is None:\n",
    "                            parent.child = []\n",
    "                        else:\n",
    "                            pass\n",
    "                        # Map the parent and the child\n",
    "                        parent.child.append(nDNode(depth_tree, i, children[j][0], children[j][1]))\n",
    "                        j = j + 1\n",
    "                    else:\n",
    "                        break\n",
    "            # For the next depth\n",
    "            for parent in parents:\n",
    "                if parent.child is not None:\n",
    "                    new_parents.extend(parent.child)\n",
    "            parents = new_parents\n",
    "\n",
    "    def shapeQuery(self, queryShape, depth_query, tree_shape_relation):\n",
    "        ranges = []\n",
    "        parents = [self.root]\n",
    "\n",
    "        while parents:\n",
    "            parent = parents.pop()\n",
    "            relation = tree_shape_relation(parent.box, queryShape)\n",
    "            cant_be_refined = parent.depth_node >= depth_query or len(parent.child) == 0\n",
    "\n",
    "            if relation == \"contained\":\n",
    "                if cant_be_refined:\n",
    "                    print(\"contained, stop\", parent.left, parent.right)\n",
    "                    ranges.append((parent.left, parent.right, 0, parent.size))\n",
    "                else:\n",
    "                    print(\"contained, continue\", parent.left, parent.right)\n",
    "                    parents.extend(reversed(parent.child))\n",
    "            elif relation == \"intersected\":\n",
    "                if cant_be_refined:\n",
    "                    print(\"intersected, stop\", parent.left, parent.right)\n",
    "                    ranges.append((parent.left, parent.right, 0, parent.size))\n",
    "                else:\n",
    "                    print(\"intersected, continue\", parent.left, parent.right)\n",
    "                    parents.extend(reversed(parent.child))\n",
    "            elif relation == \"inside\":\n",
    "                print(\"inside\", parent.left, parent.right)\n",
    "                ranges.append((parent.left, parent.right, 1, parent.size))\n",
    "            else:\n",
    "                print(\"outside\", parent.left, parent.right)\n",
    "                ranges.append((parent.left, parent.right, -1, parent.size))\n",
    "\n",
    "        return ranges"
   ],
   "metadata": {
    "collapsed": false,
    "pycharm": {
     "name": "#%%\n"
    }
   }
  },
  {
   "cell_type": "code",
   "execution_count": 23,
   "outputs": [],
   "source": [
    "\"\"\" Class for Range \"\"\"\n",
    "\n",
    "\n",
    "class Range:\n",
    "    def __init__(self, left, right, tag, size):\n",
    "        self.left = left\n",
    "        self.right = right\n",
    "        self.tag = tag\n",
    "        self.size = size\n",
    "        self.next = None\n",
    "\n",
    "    def __str__(self):\n",
    "        if self.tag == 1:\n",
    "            tag_str = \"inside\"\n",
    "        elif self.tag == 0:\n",
    "            tag_str = \"intersected\"\n",
    "        else:  # self.tag== -1\n",
    "            tag_str = \"outside\"\n",
    "        return \"range:[{},{}],\\t size:{},\\t tag:{}\".format(self.left, self.right, self.size, tag_str)\n",
    "\n",
    "    def __repr__(self):\n",
    "        return str(self)"
   ],
   "metadata": {
    "collapsed": false,
    "pycharm": {
     "name": "#%%\n"
    }
   }
  },
  {
   "cell_type": "code",
   "execution_count": 24,
   "outputs": [],
   "source": [
    "\"\"\" Class for Ranges \"\"\"\n",
    "\n",
    "\n",
    "class Ranges:\n",
    "    def __init__(self, values, weight=5):\n",
    "        self.head = None\n",
    "        self.tail = None\n",
    "        for val in values:\n",
    "            self.insertAtEnd(val[0], val[1], val[2], val[3])\n",
    "        self.weight = weight\n",
    "\n",
    "    def insertAtEnd(self, left, right, tag, size):\n",
    "        next_range = Range(left, right, tag, size)\n",
    "        if self.head is None:\n",
    "            self.head = next_range\n",
    "            self.tail = next_range\n",
    "        else:\n",
    "            if self.tail.tag == next_range.tag:\n",
    "                self.tail.right = next_range.right\n",
    "                self.tail.size = self.tail.size + next_range.size\n",
    "            else:\n",
    "                self.tail.next = next_range\n",
    "                self.tail = next_range\n",
    "\n",
    "    def calculateCost(self, left_range, right_range):\n",
    "        cost = 0\n",
    "        if left_range.tag == right_range.tag:\n",
    "            return 0\n",
    "        else:\n",
    "            if left_range.tag == 1 and right_range.tag == 0:\n",
    "                return left_range.size\n",
    "            elif left_range.tag == 1 and right_range.tag == -1:\n",
    "                return left_range.size + right_range.size * self.weight\n",
    "            elif left_range.tag == 0 and right_range.tag == 1:\n",
    "                return right_range.size\n",
    "            elif left_range.tag == 0 and right_range.tag == -1:\n",
    "                return right_range.size * self.weight\n",
    "            elif left_range.tag == -1 and right_range.tag == 1:\n",
    "                return left_range.size * self.weight + right_range.size\n",
    "            # left_range.tag == -1 and right_range.tag == 0\n",
    "            else:\n",
    "                return left_range.size * self.weight\n",
    "\n",
    "    def mergeRange(self):\n",
    "        if not self.head or not self.head.next:\n",
    "            return None\n",
    "\n",
    "        opt_left_range = None\n",
    "        opt_right_range = None\n",
    "        costMin = float(\"inf\")\n",
    "\n",
    "        cur_left_range = self.head\n",
    "        while cur_left_range and cur_left_range.next:\n",
    "            cur_right_range = cur_left_range.next\n",
    "            costCur = self.calculateCost(cur_left_range, cur_right_range)\n",
    "            if costCur < costMin:\n",
    "                costMin = costCur\n",
    "                opt_left_range = cur_left_range\n",
    "                opt_right_range = cur_right_range\n",
    "            cur_left_range = cur_left_range.next\n",
    "\n",
    "        if opt_left_range and opt_right_range:\n",
    "            opt_left_range.right = opt_right_range.right\n",
    "            opt_left_range.tag = 0\n",
    "            opt_left_range.size = opt_left_range.size + opt_right_range.size\n",
    "            opt_left_range.next = opt_right_range.next\n",
    "            if opt_right_range == self.tail:\n",
    "                self.tail = opt_left_range\n",
    "            return (opt_left_range.left, opt_left_range.right)\n",
    "\n",
    "    def rangeList(self):\n",
    "        ranges_list = []\n",
    "        cur_range = self.head\n",
    "        while cur_range:\n",
    "            ranges_list.append((cur_range.left, cur_range.right, cur_range.tag, cur_range.size))\n",
    "            cur_range = cur_range.next\n",
    "        return ranges_list\n",
    "\n",
    "    def __str__(self):\n",
    "        ranges_str = []\n",
    "        cur_range = self.head\n",
    "        while cur_range:\n",
    "            ranges_str.append(str(cur_range))\n",
    "            cur_range = cur_range.next\n",
    "        return \"\\n\".join(ranges_str)\n",
    "\n",
    "    def __repr__(self):\n",
    "        return str(self)"
   ],
   "metadata": {
    "collapsed": false,
    "pycharm": {
     "name": "#%%\n"
    }
   }
  }
 ],
 "metadata": {
  "kernelspec": {
   "display_name": "Python 3",
   "language": "python",
   "name": "python3"
  },
  "language_info": {
   "codemirror_mode": {
    "name": "ipython",
    "version": 2
   },
   "file_extension": ".py",
   "mimetype": "text/x-python",
   "name": "python",
   "nbconvert_exporter": "python",
   "pygments_lexer": "ipython2",
   "version": "2.7.6"
  }
 },
 "nbformat": 4,
 "nbformat_minor": 0
}