{
 "cells": [
  {
   "cell_type": "code",
   "execution_count": 19,
   "outputs": [],
   "source": [
    "import psycopg2"
   ],
   "metadata": {
    "collapsed": false,
    "pycharm": {
     "name": "#%%\n"
    }
   }
  },
  {
   "cell_type": "code",
   "execution_count": 20,
   "outputs": [],
   "source": [
    "\"\"\" Connect to database \"\"\"\n",
    "conn_params = \"dbname='trajectory' user='gpadmin' host='192.168.59.101' password='1234' port=5432\"\n",
    "conn = psycopg2.connect(conn_params)\n",
    "cur = conn.cursor()"
   ],
   "metadata": {
    "collapsed": false,
    "pycharm": {
     "name": "#%%\n"
    }
   }
  },
  {
   "cell_type": "code",
   "execution_count": 21,
   "outputs": [],
   "source": [
    "sql_function_extension = \"\"\"\n",
    "CREATE extension plpythonu;\n",
    "Create extension postgis;\n",
    "\"\"\"\n",
    "cur.execute(sql_function_extension)"
   ],
   "metadata": {
    "collapsed": false,
    "pycharm": {
     "name": "#%%\n"
    }
   }
  },
  {
   "cell_type": "code",
   "execution_count": 22,
   "outputs": [],
   "source": [
    "sql_function_aggregation = \"\"\"\n",
    "\n",
    "CREATE OR REPLACE FUNCTION aggregation(indexing_key INTEGER, depth INTEGER)\n",
    "                RETURNS INTEGER[]\n",
    "            AS\n",
    "            $$\n",
    "                m_b = bin(indexing_key)[2:].zfill(depth * 3)\n",
    "                x_b, y_b, t_b = \"\", \"\", \"\"\n",
    "                for i in range(depth):\n",
    "                    x_b += m_b[3 * i]\n",
    "                    y_b += m_b[3 * i + 1]\n",
    "                    t_b += m_b[3 * i + 2]\n",
    "                return [int(x_b, 2), int(y_b, 2), int(t_b, 2)]\n",
    "            $$ LANGUAGE plpythonu; \"\"\"\n",
    "cur.execute(sql_function_aggregation)"
   ],
   "metadata": {
    "collapsed": false,
    "pycharm": {
     "name": "#%%\n"
    }
   }
  },
  {
   "cell_type": "code",
   "execution_count": 23,
   "outputs": [],
   "source": [
    "sql_function_projection = \"\"\" CREATE OR REPLACE FUNCTION projection(indexing_key INTEGER, depth INTEGER)\n",
    "                RETURNS INTEGER[]\n",
    "            AS\n",
    "            $$\n",
    "                m_b = bin(indexing_key)[2:].zfill(depth * 3)\n",
    "                x_b, y_b = \"\", \"\"\n",
    "                for i in range(depth):\n",
    "                    x_b += m_b[3 * i]\n",
    "                    y_b += m_b[3 * i + 1]\n",
    "                return [int(x_b, 2), int(y_b, 2)]\n",
    "            $$ LANGUAGE plpythonu; \"\"\"\n",
    "cur.execute(sql_function_projection)"
   ],
   "metadata": {
    "collapsed": false,
    "pycharm": {
     "name": "#%%\n"
    }
   }
  },
  {
   "cell_type": "code",
   "execution_count": 24,
   "outputs": [],
   "source": [
    "conn.commit()\n",
    "cur.close()\n",
    "conn.close()"
   ],
   "metadata": {
    "collapsed": false,
    "pycharm": {
     "name": "#%%\n"
    }
   }
  }
 ],
 "metadata": {
  "kernelspec": {
   "display_name": "Python 3",
   "language": "python",
   "name": "python3"
  },
  "language_info": {
   "codemirror_mode": {
    "name": "ipython",
    "version": 2
   },
   "file_extension": ".py",
   "mimetype": "text/x-python",
   "name": "python",
   "nbconvert_exporter": "python",
   "pygments_lexer": "ipython2",
   "version": "2.7.6"
  }
 },
 "nbformat": 4,
 "nbformat_minor": 0
}