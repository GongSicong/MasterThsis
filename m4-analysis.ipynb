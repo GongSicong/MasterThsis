{
 "cells": [
  {
   "cell_type": "code",
   "execution_count": 64,
   "outputs": [],
   "source": [
    "depth_tree = 7"
   ],
   "metadata": {
    "collapsed": false,
    "pycharm": {
     "name": "#%%\n"
    }
   }
  },
  {
   "cell_type": "code",
   "execution_count": 65,
   "outputs": [],
   "source": [
    "\"\"\" Import libraries \"\"\"\n",
    "import json\n",
    "import pandas as pd\n",
    "import psycopg2\n",
    "import nbimporter\n",
    "from Core import json_numpy_serializer\n",
    "\n",
    "pd.set_option('display.float_format', lambda x: '%.6f' % x)\n",
    "pd.set_option('display.max_rows', None)"
   ],
   "metadata": {
    "collapsed": false,
    "pycharm": {
     "name": "#%%\n"
    }
   }
  },
  {
   "cell_type": "code",
   "execution_count": 66,
   "outputs": [],
   "source": [
    "\"\"\" Read parameters \"\"\"\n",
    "with open(\"para.json\", \"r\") as json_file:\n",
    "    para = json.load(json_file)\n",
    "fold_para = para[\"fold_para\"]\n",
    "with open(\"{}/para_{}.json\".format(fold_para, depth_tree), \"r\") as json_file:\n",
    "    para = json.load(json_file)"
   ],
   "metadata": {
    "collapsed": false,
    "pycharm": {
     "name": "#%%\n"
    }
   }
  },
  {
   "cell_type": "code",
   "execution_count": 67,
   "outputs": [],
   "source": [
    "\"\"\" Database Connection \"\"\"\n",
    "conn_params = \"dbname='trajectory' user='postgres' host='localhost' password='990721' port=5432\"\n",
    "conn = psycopg2.connect(conn_params)\n",
    "cur = conn.cursor()"
   ],
   "metadata": {
    "collapsed": false,
    "pycharm": {
     "name": "#%%\n"
    }
   }
  },
  {
   "cell_type": "code",
   "execution_count": 68,
   "outputs": [],
   "source": [
    "\"\"\" Query data distribution \"\"\"\n",
    "query = \"\"\"\n",
    "SELECT indexing_key, sum(pg_column_size(geometry)) AS size\n",
    "FROM traj_{}\n",
    "WHERE geometry is not null\n",
    "GROUP BY indexing_key;\n",
    "\"\"\".format(depth_tree)\n",
    "\n",
    "cur.execute(query)\n",
    "records = cur.fetchall()\n",
    "columns = [desc[0] for desc in cur.description]\n",
    "df = pd.DataFrame(records, columns=columns)"
   ],
   "metadata": {
    "collapsed": false,
    "pycharm": {
     "name": "#%%\n"
    }
   }
  },
  {
   "cell_type": "code",
   "execution_count": 69,
   "outputs": [],
   "source": [
    "\"\"\" Disconnect database \"\"\"\n",
    "cur.close()\n",
    "conn.close()"
   ],
   "metadata": {
    "collapsed": false,
    "pycharm": {
     "name": "#%%\n"
    }
   }
  },
  {
   "cell_type": "code",
   "execution_count": 70,
   "outputs": [],
   "source": [
    "\"\"\" Aggregate data distribution \"\"\"\n",
    "dfs = []\n",
    "for i in range(depth_tree + 1):\n",
    "    dfs.append(df)\n",
    "    df = df.copy()\n",
    "    df[\"indexing_key\"] = df.apply(lambda x: int(x[\"indexing_key\"] / 8), axis=1)\n",
    "    df = df.groupby('indexing_key')['size'].sum()\n",
    "    df = df.reset_index()\n",
    "    df.columns = ['indexing_key', 'size']\n",
    "dfs.reverse()"
   ],
   "metadata": {
    "collapsed": false,
    "pycharm": {
     "name": "#%%\n"
    }
   }
  },
  {
   "cell_type": "code",
   "execution_count": 71,
   "outputs": [],
   "source": [
    "\"\"\" Transform to list \"\"\"\n",
    "dist = []\n",
    "for i, df in enumerate(dfs):\n",
    "    dist.append(df.values.tolist())"
   ],
   "metadata": {
    "collapsed": false,
    "pycharm": {
     "name": "#%%\n"
    }
   }
  },
  {
   "cell_type": "code",
   "execution_count": 72,
   "outputs": [],
   "source": [
    "\"\"\" Write parameters \"\"\"\n",
    "para[\"dist\"] = dist\n",
    "with open(\"{}/para_{}.json\".format(fold_para, depth_tree), \"w\") as json_file:\n",
    "    json.dump(para, json_file, default=json_numpy_serializer)"
   ],
   "metadata": {
    "collapsed": false,
    "pycharm": {
     "name": "#%%\n"
    }
   }
  }
 ],
 "metadata": {
  "kernelspec": {
   "display_name": "Python 3",
   "language": "python",
   "name": "python3"
  },
  "language_info": {
   "codemirror_mode": {
    "name": "ipython",
    "version": 2
   },
   "file_extension": ".py",
   "mimetype": "text/x-python",
   "name": "python",
   "nbconvert_exporter": "python",
   "pygments_lexer": "ipython2",
   "version": "2.7.6"
  }
 },
 "nbformat": 4,
 "nbformat_minor": 0
}